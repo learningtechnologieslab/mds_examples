{
 "cells": [
  {
   "cell_type": "markdown",
   "id": "f8931c9a",
   "metadata": {},
   "source": [
    "# Understanding Functions in Python: Examples and Explanations"
   ]
  },
  {
   "cell_type": "markdown",
   "id": "aef88785",
   "metadata": {},
   "source": [
    "### Introduction to Functions\n",
    "\n",
    "Python functions are reusable blocks of code that perform specific tasks, allowing for modular and efficient programming. They are essential for code organization, reducing redundancy, and improving readability and maintainability in software development.\n",
    "\n",
    "#### Defining a Function\n",
    "\n",
    "* Function blocks begin with the keyword _def_ followed by the function name and parentheses _(  )_.\n",
    "* Any input parameters or arguments should be placed within these parentheses. You can also define parameters inside these parentheses.\n",
    "* The code block within every function starts with a colon (:) and is indented.\n",
    "* The statement _return [expression]_ exits a function, optionally passing back an expression to the caller. A return statement with no arguments is the same as return None.\n",
    "\n",
    "#### Syntax\n",
    "def functionname( parameters ):\n",
    "\n",
    "    function code\n",
    "    more code\n",
    "    even more code\n",
    "\n",
    "    return [expression]\n"
   ]
  },
  {
   "cell_type": "code",
   "execution_count": 3,
   "id": "b5f1041a",
   "metadata": {},
   "outputs": [
    {
     "name": "stdout",
     "output_type": "stream",
     "text": [
      "Hello world\n"
     ]
    }
   ],
   "source": [
    "def hello_world():  # Define the function\n",
    "    print(\"Hello world\")  # Execute code inside the function"
   ]
  },
  {
   "cell_type": "code",
   "execution_count": 4,
   "id": "008782e0",
   "metadata": {},
   "outputs": [
    {
     "name": "stdout",
     "output_type": "stream",
     "text": [
      "Hello world\n"
     ]
    }
   ],
   "source": [
    "# Call the 'hello_world()' function\n",
    "hello_world()"
   ]
  },
  {
   "cell_type": "code",
   "execution_count": 5,
   "id": "31284b83",
   "metadata": {},
   "outputs": [],
   "source": [
    "def greet(name):\n",
    "    return f\"Hello, {name}!\""
   ]
  },
  {
   "cell_type": "code",
   "execution_count": 6,
   "id": "7ccc6ccc",
   "metadata": {},
   "outputs": [
    {
     "name": "stdout",
     "output_type": "stream",
     "text": [
      "Hello, Alice!\n"
     ]
    }
   ],
   "source": [
    "# Calling the 'greet()' function\n",
    "print(greet(\"Alice\"))"
   ]
  },
  {
   "cell_type": "code",
   "execution_count": 8,
   "id": "a8297e13",
   "metadata": {},
   "outputs": [],
   "source": [
    "# Function name: add_two_numbers\n",
    "# Parameter(s): num1, num2\n",
    "# Description: This function adds two numbers\n",
    "# Return: This function returns a sum of two numbers\n",
    "\n",
    "def add_two_numbers(num1, num2):\n",
    "    sum_of_two_numbers = num1 + num2\n",
    "    return sum_of_two_numbers"
   ]
  },
  {
   "cell_type": "code",
   "execution_count": 9,
   "id": "81799b23",
   "metadata": {},
   "outputs": [
    {
     "name": "stdout",
     "output_type": "stream",
     "text": [
      "12\n"
     ]
    }
   ],
   "source": [
    "# Calling the 'add_two_numbers()'' function\n",
    "result = add_two_numbers(5, 7)\n",
    "print(result)"
   ]
  },
  {
   "cell_type": "code",
   "execution_count": 10,
   "id": "d4ba2fb3",
   "metadata": {},
   "outputs": [],
   "source": [
    "# You can pass variables instead of literal parameters into a function\n",
    "var1 = 10\n",
    "var2 = 20\n",
    "result = add_two_numbers(var1, var2)"
   ]
  },
  {
   "cell_type": "markdown",
   "id": "2391f9fb",
   "metadata": {},
   "source": [
    "**Important notes about functions**\n",
    "* A function name along with its parameters make up the functions **signature**\n",
    "* When calling a function, you must pass values for each parameter in EXACTLY the same order as it appears in the parameter list\n",
    "\n",
    "**Named parameters**\n",
    "* Sometimes, we want parameters to have default values (values that will be automatically assigned to a parameter)\n",
    "* Sometimes, we also want to pick and choose which parameters to pass into a function (have optional parameters)\n",
    "* To address these two use cases, we can create functions with **named** parameters\n",
    "\n",
    "**Syntax for functions with named parameters:**\n",
    "\n",
    "def functionname( parameter_1_name = parameter_1_value, parameter_2_name = parameter_2_value ):\n",
    "\n",
    "    function code\n",
    "    more code\n",
    "    even more code\n",
    "\n",
    "    return [expression]\n"
   ]
  },
  {
   "cell_type": "markdown",
   "id": "6bebe4bf",
   "metadata": {},
   "source": [
    "## 2. Default (or Named) Parameters\n",
    "\n",
    "Named parameters, also known as keyword arguments, in Python functions allow you to specify arguments to a function by explicitly naming each parameter and assigning it a value. This enhances code readability and allows for more flexibility in function calls. Here’s an explanation of the idea and usage of named parameters:\n",
    "\n",
    "**Idea of Named Parameters**:\n",
    "The idea behind named parameters is to allow function arguments to be passed by explicitly specifying the parameter names, making the code more self-documenting and easier to understand. Named parameters also make it possible to change the order of arguments or provide default values for some parameters while skipping others.\n",
    "\n",
    "**Usage of Named Parameters**\n",
    "1. **Defining Functions with Named Parameters**: When defining a function, you can specify default values for parameters, making them optional when calling the function. Parameters with default values are called keyword arguments.\n",
    "2. **Calling Functions with Named Parameters**: You can call a function using named parameters by specifying the parameter names and their values in the function call.\n",
    "3. Mixing Positional and Named Parameters: Python allows you to mix positional and named parameters in function calls, but positional arguments must come before named arguments.\n",
    "4. **Using \\*\\*kwargs for Arbitrary Named Parameters**: You can define functions to accept an arbitrary number of named parameters using \\*\\*kwargs. This collects all extra named arguments into a dictionary.\n",
    "5. Advantages of Named Parameters:\n",
    "    * Readability: Named parameters make function calls clearer and more readable.\n",
    "    * Flexibility: Allows for changing the order of arguments and skipping some optional arguments.\n",
    "    * Self-Documentation: The function calls are self-explanatory, making the code easier to understand."
   ]
  },
  {
   "cell_type": "code",
   "execution_count": 13,
   "id": "0c5cb1ae",
   "metadata": {},
   "outputs": [
    {
     "name": "stdout",
     "output_type": "stream",
     "text": [
      "Hello, Guest!\n",
      "Hello, Alice!\n"
     ]
    }
   ],
   "source": [
    "def greet(name=\"Guest\"):\n",
    "    return f\"Hello, {name}!\"\n",
    "\n",
    "print(greet())\n",
    "print(greet(\"Alice\"))\n"
   ]
  },
  {
   "cell_type": "markdown",
   "id": "60c51e9e",
   "metadata": {},
   "source": [
    "\n",
    "#### Explanation:\n",
    "- **Default Value**: `name=\"Guest\"`\n",
    "- **Function Call**: `greet()` uses default value, `greet(\"Alice\")` overrides it.\n"
   ]
  },
  {
   "cell_type": "code",
   "execution_count": 14,
   "id": "863223b9",
   "metadata": {},
   "outputs": [],
   "source": [
    "# Note that \"operation\" is a named parameter.  \n",
    "# It has a default value of \"add\" and can be skipped alltogether\n",
    "\n",
    "def do_math_with_two_numbers(num1, num2, operation = \"add\"):\n",
    "    if operation == \"add\":\n",
    "        result = num1 + num2\n",
    "    elif operation == \"subtract\":\n",
    "        result = num1 - num2\n",
    "    elif operation == \"multiply\":\n",
    "        result = num1 * num2\n",
    "    elif operation == \"divide\":\n",
    "        result = num1 / num2\n",
    "    return result"
   ]
  },
  {
   "cell_type": "code",
   "execution_count": 15,
   "id": "a19d357b",
   "metadata": {},
   "outputs": [
    {
     "name": "stdout",
     "output_type": "stream",
     "text": [
      "15\n",
      "-5\n"
     ]
    }
   ],
   "source": [
    "# Call the function without the named parameter\n",
    "test = do_math_with_two_numbers(5, 10)\n",
    "print(test)\n",
    "\n",
    "# Call the function with the named parameter\n",
    "test = do_math_with_two_numbers(5, 10, operation=\"subtract\")\n",
    "print(test)\n",
    "\n"
   ]
  },
  {
   "cell_type": "markdown",
   "id": "57aebada",
   "metadata": {},
   "source": [
    "## Keyword Arguments"
   ]
  },
  {
   "cell_type": "code",
   "execution_count": 16,
   "id": "3bdc96da",
   "metadata": {},
   "outputs": [
    {
     "name": "stdout",
     "output_type": "stream",
     "text": [
      "Hello, Bob. You are 25 years old.\n"
     ]
    }
   ],
   "source": [
    "def greet(name, age):\n",
    "    return f\"Hello, {name}. You are {age} years old.\"\n",
    "\n",
    "print(greet(age=25, name=\"Bob\"))\n"
   ]
  },
  {
   "cell_type": "markdown",
   "id": "71ac80c8",
   "metadata": {},
   "source": [
    "\n",
    "### Explanation:\n",
    "- **Keyword Argument**: `name=\"Bob\"`, `age=25`\n"
   ]
  },
  {
   "cell_type": "markdown",
   "id": "38cd88a4",
   "metadata": {},
   "source": [
    "## Variable-Length Arguments (`*args`)\n",
    "\n",
    "The idea of variable-length arguments is to provide flexibility in function definitions so that functions can accept varying numbers of arguments. This is useful when you don't know in advance how many arguments might be passed to a function.\n",
    "\n",
    "**Usage of Variable-Length Arguments**\n",
    "\n",
    "__*args__ allows a function to accept any number of positional arguments. Inside the function, args is treated as a tuple of the passed arguments.\n",
    "\n",
    "**Advantages of Variable-Length Arguments**\n",
    "* Flexibility: Functions can accept any number of arguments, making them more flexible.\n",
    "* Ease of Use: Reduces the need to define multiple functions for different numbers of arguments.\n",
    "* Dynamic Handling: Useful for scenarios where the number of inputs is not known beforehand."
   ]
  },
  {
   "cell_type": "code",
   "execution_count": 22,
   "id": "1e8e8902",
   "metadata": {},
   "outputs": [
    {
     "name": "stdout",
     "output_type": "stream",
     "text": [
      "apple\n",
      "banana\n",
      "cherry\n"
     ]
    }
   ],
   "source": [
    "\n",
    "def print_args(*args):\n",
    "    for arg in args:\n",
    "        print(arg)\n",
    "\n",
    "print_args(\"apple\", \"banana\", \"cherry\")"
   ]
  },
  {
   "cell_type": "code",
   "execution_count": 23,
   "id": "7cab03b6",
   "metadata": {},
   "outputs": [
    {
     "name": "stdout",
     "output_type": "stream",
     "text": [
      "1\n",
      "2\n",
      "3\n"
     ]
    }
   ],
   "source": [
    "def print_numbers(*args):\n",
    "    for number in args:\n",
    "        print(number)\n",
    "\n",
    "print_numbers(1, 2, 3)"
   ]
  },
  {
   "cell_type": "markdown",
   "id": "586b2270",
   "metadata": {},
   "source": [
    "\n",
    "### Explanation:\n",
    "- **`*args`**: Collects any number of positional arguments into a tuple.\n"
   ]
  },
  {
   "cell_type": "markdown",
   "id": "9fbf225e",
   "metadata": {},
   "source": [
    "## Variable-Length Keyword Arguments (`**kwargs`)\n",
    "\n",
    "**\\*\\*kwargs** allows a function to accept any number of keyword arguments. Inside the function, kwargs is treated as a dictionary of the passed keyword arguments."
   ]
  },
  {
   "cell_type": "code",
   "execution_count": 24,
   "id": "58f678f8",
   "metadata": {},
   "outputs": [
    {
     "name": "stdout",
     "output_type": "stream",
     "text": [
      "name: Alice\n",
      "age: 30\n",
      "city: New York\n"
     ]
    }
   ],
   "source": [
    "\n",
    "def print_kwargs(**kwargs):\n",
    "    for key, value in kwargs.items():\n",
    "        print(f\"{key}: {value}\")\n",
    "\n",
    "print_kwargs(name=\"Alice\", age=30, city=\"New York\")\n"
   ]
  },
  {
   "cell_type": "markdown",
   "id": "f054cb81",
   "metadata": {},
   "source": [
    "\n",
    "### Explanation:\n",
    "- **`**kwargs`**: Collects any number of keyword arguments into a dictionary.\n",
    "- You can pass any number of keyword arguments to print_info, and it will print each key-value pair.\n"
   ]
  },
  {
   "cell_type": "markdown",
   "id": "d3ce8257",
   "metadata": {},
   "source": [
    "## Combining *args and **kwargs\n",
    "\n",
    "You can use both __*args__ and __\\*\\*kwargs__ in the same function to accept any number of positional and keyword arguments."
   ]
  },
  {
   "cell_type": "code",
   "execution_count": 25,
   "id": "8c8be209",
   "metadata": {},
   "outputs": [
    {
     "name": "stdout",
     "output_type": "stream",
     "text": [
      "1\n",
      "2\n",
      "3\n",
      "name: Alice\n",
      "age: 30\n"
     ]
    }
   ],
   "source": [
    "def print_all(*args, **kwargs):\n",
    "    for arg in args:\n",
    "        print(arg)\n",
    "    for key, value in kwargs.items():\n",
    "        print(f\"{key}: {value}\")\n",
    "\n",
    "print_all(1, 2, 3, name=\"Alice\", age=30)"
   ]
  },
  {
   "cell_type": "code",
   "execution_count": null,
   "id": "fd377588",
   "metadata": {},
   "outputs": [],
   "source": []
  },
  {
   "cell_type": "markdown",
   "id": "edb09db7",
   "metadata": {},
   "source": [
    "## Returning Multiple Values\n",
    "\n",
    "Functions in most programming languages (e.g., C++, C#, Java, JavaScript) allow us to return only one value.  So why is returning multiple values in Python functions is useful?\n",
    "\n",
    "1. Simplicity and Convenience: Returning multiple values from a function can simplify the code and make it more readable. Instead of creating a complex data structure or using multiple return statements, a function can return multiple values directly.\n",
    "2. Grouped Data: When a function needs to return related pieces of information, returning them together makes logical sense. This is particularly useful in mathematical computations, where functions often need to return multiple results (e.g., the quotient and remainder of a division).\n",
    "3. Avoiding Global Variables: Returning multiple values helps avoid the use of global variables to share information between functions. This makes the code cleaner and reduces potential side effects.\n",
    "4. Enhanced Functionality: Functions can return a comprehensive set of results from an operation, providing more detailed output for further processing or decision-making."
   ]
  },
  {
   "cell_type": "code",
   "execution_count": 26,
   "id": "659dff45",
   "metadata": {},
   "outputs": [
    {
     "name": "stdout",
     "output_type": "stream",
     "text": [
      "Sum: 8, Product: 15\n"
     ]
    }
   ],
   "source": [
    "\n",
    "def calculate(a, b):\n",
    "    sum = a + b\n",
    "    product = a * b\n",
    "    return sum, product\n",
    "\n",
    "result = calculate(3, 5)\n",
    "print(f\"Sum: {result[0]}, Product: {result[1]}\")\n"
   ]
  },
  {
   "cell_type": "markdown",
   "id": "28ae5d57",
   "metadata": {},
   "source": [
    "\n",
    "### Explanation:\n",
    "- **Returning Tuple**: `return sum, product`\n",
    "- **Unpacking**: `sum, product = calculate(3, 5)`\n"
   ]
  },
  {
   "cell_type": "markdown",
   "id": "bc4ea368",
   "metadata": {},
   "source": [
    "## Using `return` with Multiple Values"
   ]
  },
  {
   "cell_type": "code",
   "execution_count": 27,
   "id": "7e959183",
   "metadata": {},
   "outputs": [
    {
     "name": "stdout",
     "output_type": "stream",
     "text": [
      "Name: Alice, Age: 30\n"
     ]
    }
   ],
   "source": [
    "\n",
    "def get_details():\n",
    "    name = \"Alice\"\n",
    "    age = 30\n",
    "    return name, age\n",
    "\n",
    "name, age = get_details()\n",
    "print(f\"Name: {name}, Age: {age}\")\n"
   ]
  }
 ],
 "metadata": {
  "kernelspec": {
   "display_name": "Python 3 (ipykernel)",
   "language": "python",
   "name": "python3"
  },
  "language_info": {
   "codemirror_mode": {
    "name": "ipython",
    "version": 3
   },
   "file_extension": ".py",
   "mimetype": "text/x-python",
   "name": "python",
   "nbconvert_exporter": "python",
   "pygments_lexer": "ipython3",
   "version": "3.9.13"
  }
 },
 "nbformat": 4,
 "nbformat_minor": 5
}
