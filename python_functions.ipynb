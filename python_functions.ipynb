{
 "cells": [
  {
   "cell_type": "markdown",
   "id": "f8931c9a",
   "metadata": {},
   "source": [
    "# Understanding Functions in Python: Examples and Explanations"
   ]
  },
  {
   "cell_type": "markdown",
   "id": "aef88785",
   "metadata": {},
   "source": [
    "### 1. Introduction to Functions\n",
    "\n",
    "Python functions are reusable blocks of code that perform specific tasks, allowing for modular and efficient programming. They are essential for code organization, reducing redundancy, and improving readability and maintainability in software development.\n",
    "\n",
    "The examples in this section demonstrate three components of a Python function: \n",
    "- **Function Definition**:\n",
    "- **Function Parameters**:\n",
    "- **Return Statement**"
   ]
  },
  {
   "cell_type": "code",
   "execution_count": 3,
   "id": "67c663e9",
   "metadata": {},
   "outputs": [
    {
     "name": "stdout",
     "output_type": "stream",
     "text": [
      "Hello world\n"
     ]
    }
   ],
   "source": [
    "def hello_world():  # Define the function\n",
    "    print(\"Hello world\")  # Execute code inside the function\n",
    "    \n",
    "hello_world() # Call the function"
   ]
  },
  {
   "cell_type": "code",
   "execution_count": null,
   "id": "e768d98e",
   "metadata": {},
   "outputs": [],
   "source": []
  },
  {
   "cell_type": "code",
   "execution_count": 1,
   "id": "31284b83",
   "metadata": {},
   "outputs": [
    {
     "name": "stdout",
     "output_type": "stream",
     "text": [
      "Hello, Alice!\n"
     ]
    }
   ],
   "source": [
    "\n",
    "def greet(name):\n",
    "    return f\"Hello, {name}!\"\n",
    "\n",
    "print(greet(\"Alice\"))\n"
   ]
  },
  {
   "cell_type": "markdown",
   "id": "6bebe4bf",
   "metadata": {},
   "source": [
    "## 2. Default Parameter Values"
   ]
  },
  {
   "cell_type": "code",
   "execution_count": null,
   "id": "0c5cb1ae",
   "metadata": {},
   "outputs": [],
   "source": [
    "\n",
    "def greet(name=\"Guest\"):\n",
    "    return f\"Hello, {name}!\"\n",
    "\n",
    "print(greet())\n",
    "print(greet(\"Alice\"))\n"
   ]
  },
  {
   "cell_type": "markdown",
   "id": "60c51e9e",
   "metadata": {},
   "source": [
    "\n",
    "### Explanation:\n",
    "- **Default Value**: `name=\"Guest\"`\n",
    "- **Function Call**: `greet()` uses default value, `greet(\"Alice\")` overrides it.\n"
   ]
  },
  {
   "cell_type": "markdown",
   "id": "57aebada",
   "metadata": {},
   "source": [
    "## 3. Keyword Arguments"
   ]
  },
  {
   "cell_type": "code",
   "execution_count": null,
   "id": "3bdc96da",
   "metadata": {},
   "outputs": [],
   "source": [
    "\n",
    "def greet(name, age):\n",
    "    return f\"Hello, {name}. You are {age} years old.\"\n",
    "\n",
    "print(greet(age=25, name=\"Bob\"))\n"
   ]
  },
  {
   "cell_type": "markdown",
   "id": "71ac80c8",
   "metadata": {},
   "source": [
    "\n",
    "### Explanation:\n",
    "- **Keyword Argument**: `name=\"Bob\"`, `age=25`\n"
   ]
  },
  {
   "cell_type": "markdown",
   "id": "38cd88a4",
   "metadata": {},
   "source": [
    "## 4. Variable-Length Arguments (`*args`)"
   ]
  },
  {
   "cell_type": "code",
   "execution_count": null,
   "id": "1e8e8902",
   "metadata": {},
   "outputs": [],
   "source": [
    "\n",
    "def print_args(*args):\n",
    "    for arg in args:\n",
    "        print(arg)\n",
    "\n",
    "print_args(\"apple\", \"banana\", \"cherry\")\n"
   ]
  },
  {
   "cell_type": "markdown",
   "id": "586b2270",
   "metadata": {},
   "source": [
    "\n",
    "### Explanation:\n",
    "- **`*args`**: Collects any number of positional arguments into a tuple.\n"
   ]
  },
  {
   "cell_type": "markdown",
   "id": "9fbf225e",
   "metadata": {},
   "source": [
    "## 5. Variable-Length Keyword Arguments (`**kwargs`)"
   ]
  },
  {
   "cell_type": "code",
   "execution_count": null,
   "id": "58f678f8",
   "metadata": {},
   "outputs": [],
   "source": [
    "\n",
    "def print_kwargs(**kwargs):\n",
    "    for key, value in kwargs.items():\n",
    "        print(f\"{key}: {value}\")\n",
    "\n",
    "print_kwargs(name=\"Alice\", age=30, city=\"New York\")\n"
   ]
  },
  {
   "cell_type": "markdown",
   "id": "f054cb81",
   "metadata": {},
   "source": [
    "\n",
    "### Explanation:\n",
    "- **`**kwargs`**: Collects any number of keyword arguments into a dictionary.\n"
   ]
  },
  {
   "cell_type": "markdown",
   "id": "edb09db7",
   "metadata": {},
   "source": [
    "## 6. Returning Multiple Values"
   ]
  },
  {
   "cell_type": "code",
   "execution_count": null,
   "id": "659dff45",
   "metadata": {},
   "outputs": [],
   "source": [
    "\n",
    "def calculate(a, b):\n",
    "    sum = a + b\n",
    "    product = a * b\n",
    "    return sum, product\n",
    "\n",
    "result = calculate(3, 5)\n",
    "print(f\"Sum: {result[0]}, Product: {result[1]}\")\n"
   ]
  },
  {
   "cell_type": "markdown",
   "id": "28ae5d57",
   "metadata": {},
   "source": [
    "\n",
    "### Explanation:\n",
    "- **Returning Tuple**: `return sum, product`\n",
    "- **Unpacking**: `sum, product = calculate(3, 5)`\n"
   ]
  },
  {
   "cell_type": "markdown",
   "id": "bc4ea368",
   "metadata": {},
   "source": [
    "## 7. Using `return` with Multiple Values"
   ]
  },
  {
   "cell_type": "code",
   "execution_count": null,
   "id": "7e959183",
   "metadata": {},
   "outputs": [],
   "source": [
    "\n",
    "def get_details():\n",
    "    name = \"Alice\"\n",
    "    age = 30\n",
    "    return name, age\n",
    "\n",
    "name, age = get_details()\n",
    "print(f\"Name: {name}, Age: {age}\")\n"
   ]
  },
  {
   "cell_type": "markdown",
   "id": "87981209",
   "metadata": {},
   "source": [
    "\n",
    "### Explanation:\n",
    "- **Returning Multiple Values**: `return name, age`\n",
    "- **Unpacking**: `name, age = get_details()`\n"
   ]
  },
  {
   "cell_type": "markdown",
   "id": "48a89ff8",
   "metadata": {},
   "source": [
    "## 8. Nested Functions"
   ]
  },
  {
   "cell_type": "code",
   "execution_count": null,
   "id": "80b44e91",
   "metadata": {},
   "outputs": [],
   "source": [
    "\n",
    "def outer_function(x):\n",
    "    def inner_function(y):\n",
    "        return x + y\n",
    "    return inner_function\n",
    "\n",
    "add_five = outer_function(5)\n",
    "print(add_five(10))\n"
   ]
  },
  {
   "cell_type": "markdown",
   "id": "7a69f910",
   "metadata": {},
   "source": [
    "\n",
    "### Explanation:\n",
    "- **Nested Function**: `def inner_function(y):`\n",
    "- **Function Call**: `add_five(10)`\n"
   ]
  },
  {
   "cell_type": "markdown",
   "id": "536e3d97",
   "metadata": {},
   "source": [
    "## 9. Lambda Functions"
   ]
  },
  {
   "cell_type": "code",
   "execution_count": null,
   "id": "85f980ef",
   "metadata": {},
   "outputs": [],
   "source": [
    "\n",
    "square = lambda x: x * x\n",
    "print(square(5))\n"
   ]
  },
  {
   "cell_type": "markdown",
   "id": "90c83b77",
   "metadata": {},
   "source": [
    "\n",
    "### Explanation:\n",
    "- **Lambda Function**: `lambda x: x * x`\n"
   ]
  },
  {
   "cell_type": "markdown",
   "id": "30f112b7",
   "metadata": {},
   "source": [
    "## 10. Using `*args` and `**kwargs` Together"
   ]
  },
  {
   "cell_type": "code",
   "execution_count": null,
   "id": "a6276613",
   "metadata": {},
   "outputs": [],
   "source": [
    "\n",
    "def combined_function(arg1, *args, **kwargs):\n",
    "    print(f\"arg1: {arg1}\")\n",
    "    print(f\"Additional args: {args}\")\n",
    "    print(f\"Keyword args: {kwargs}\")\n",
    "\n",
    "combined_function(1, 2, 3, 4, name=\"Alice\", age=30)\n"
   ]
  },
  {
   "cell_type": "markdown",
   "id": "a4939933",
   "metadata": {},
   "source": [
    "\n",
    "### Explanation:\n",
    "- **`*args`**: Collects additional positional arguments.\n",
    "- **`**kwargs`**: Collects keyword arguments.\n"
   ]
  }
 ],
 "metadata": {
  "kernelspec": {
   "display_name": "Python 3 (ipykernel)",
   "language": "python",
   "name": "python3"
  },
  "language_info": {
   "codemirror_mode": {
    "name": "ipython",
    "version": 3
   },
   "file_extension": ".py",
   "mimetype": "text/x-python",
   "name": "python",
   "nbconvert_exporter": "python",
   "pygments_lexer": "ipython3",
   "version": "3.9.13"
  }
 },
 "nbformat": 4,
 "nbformat_minor": 5
}
