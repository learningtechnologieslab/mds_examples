{
 "cells": [
  {
   "cell_type": "markdown",
   "id": "87a0eaf3",
   "metadata": {},
   "source": [
    "## From NumPy Arrays to Pandas Series and DataFrames "
   ]
  },
  {
   "cell_type": "markdown",
   "id": "26faed9c",
   "metadata": {},
   "source": [
    "#### Terminology:\n",
    "* **List**: A list in Python is an ordered, mutable collection of items that can contain elements of different data types. Lists support various operations like indexing, slicing, appending, and modifying, making them a versatile tool for managing and manipulating data.\n",
    "* **Array**: An array in Python, typically provided by libraries like NumPy, is a homogeneous, fixed-size data structure that stores elements of the same data type in a contiguous block of memory. Arrays are optimized for numerical computations and support advanced mathematical operations, offering more efficiency than Python lists for handling large datasets.\n",
    "* **Lists vs. Arrays**\n",
    "    * Data Type:\n",
    "        * List: Can contain elements of different data types.\n",
    "        * Array: Typically contains elements of the same data type.\n",
    "    * Performance:\n",
    "        * List: Slower for numerical operations due to its general-purpose nature.\n",
    "        * Array: Faster and more memory-efficient for numerical operations, especially with large datasets.\n",
    "    * Functionality:\n",
    "        * List: Supports a wide range of operations but lacks advanced mathematical capabilities.\n",
    "        * Array: Provides advanced mathematical functions and operations, especially with libraries like NumPy.\n",
    "\n",
    "* **Series**: A one-dimensional array-like object that can hold any data type (integers, floats, strings, etc.). It is essentially a single column of data with an index, which can be labels or integers. Think of it like a list or a column in a spreadsheet.\n",
    "* **DataFrame**: A two-dimensional, size-mutable, and heterogeneous tabular data structure with labeled axes (rows and columns). It can be thought of as a collection of Series objects, where each Series represents a column. DataFrames are similar to a table in a relational database or an Excel spreadsheet.\n"
   ]
  },
  {
   "cell_type": "code",
   "execution_count": 32,
   "id": "063ce38c",
   "metadata": {},
   "outputs": [],
   "source": [
    "# Import necessary libraries\n",
    "import numpy as np\n",
    "import pandas as pd"
   ]
  },
  {
   "cell_type": "markdown",
   "id": "eb22b620",
   "metadata": {},
   "source": [
    "### Example 1: Converting a 1D NumPy array to a Pandas Series\n",
    "\n",
    "Example 1 uses basic numerical data to illustrate how to convert a 1-dimensional (1D) NumPy array to a Pandas Series."
   ]
  },
  {
   "cell_type": "code",
   "execution_count": 19,
   "id": "d893b553",
   "metadata": {},
   "outputs": [
    {
     "name": "stdout",
     "output_type": "stream",
     "text": [
      "0    10\n",
      "1    20\n",
      "2    30\n",
      "3    40\n",
      "4    50\n",
      "dtype: int64\n"
     ]
    }
   ],
   "source": [
    "array_1d = np.array([10, 20, 30, 40, 50])\n",
    "series_1d = pd.Series(array_1d)\n",
    "print(series_1d)"
   ]
  },
  {
   "cell_type": "markdown",
   "id": "99d3819b",
   "metadata": {},
   "source": [
    "### Example 2: Converting a 1D NumPy array to a Pandas DataFrame\n",
    "\n",
    "Example 2 uses basic numerical data to illustrate how to convert a 1-dimensional (1D) NumPy array to a Pandas DataFrame."
   ]
  },
  {
   "cell_type": "code",
   "execution_count": 20,
   "id": "40fc88f0",
   "metadata": {},
   "outputs": [
    {
     "data": {
      "text/html": [
       "<div>\n",
       "<style scoped>\n",
       "    .dataframe tbody tr th:only-of-type {\n",
       "        vertical-align: middle;\n",
       "    }\n",
       "\n",
       "    .dataframe tbody tr th {\n",
       "        vertical-align: top;\n",
       "    }\n",
       "\n",
       "    .dataframe thead th {\n",
       "        text-align: right;\n",
       "    }\n",
       "</style>\n",
       "<table border=\"1\" class=\"dataframe\">\n",
       "  <thead>\n",
       "    <tr style=\"text-align: right;\">\n",
       "      <th></th>\n",
       "      <th>Values</th>\n",
       "    </tr>\n",
       "  </thead>\n",
       "  <tbody>\n",
       "    <tr>\n",
       "      <th>0</th>\n",
       "      <td>10</td>\n",
       "    </tr>\n",
       "    <tr>\n",
       "      <th>1</th>\n",
       "      <td>20</td>\n",
       "    </tr>\n",
       "    <tr>\n",
       "      <th>2</th>\n",
       "      <td>30</td>\n",
       "    </tr>\n",
       "    <tr>\n",
       "      <th>3</th>\n",
       "      <td>40</td>\n",
       "    </tr>\n",
       "    <tr>\n",
       "      <th>4</th>\n",
       "      <td>50</td>\n",
       "    </tr>\n",
       "  </tbody>\n",
       "</table>\n",
       "</div>"
      ],
      "text/plain": [
       "   Values\n",
       "0      10\n",
       "1      20\n",
       "2      30\n",
       "3      40\n",
       "4      50"
      ]
     },
     "execution_count": 20,
     "metadata": {},
     "output_type": "execute_result"
    }
   ],
   "source": [
    "array_1d = np.array([10, 20, 30, 40, 50])\n",
    "df_1d = pd.DataFrame(array_1d, columns=['Values'])\n",
    "df_1d.head()"
   ]
  },
  {
   "cell_type": "markdown",
   "id": "550a7513",
   "metadata": {},
   "source": [
    "### Example 3: Converting a 2D NumPy array to a Pandas DataFrame\n",
    "\n",
    "Example 3 uses synthetic financial data to illustrate how to convert a 2-dimensional (2D) NumPy array to a Pandas DataFrame.\n"
   ]
  },
  {
   "cell_type": "code",
   "execution_count": 21,
   "id": "979abb16",
   "metadata": {},
   "outputs": [
    {
     "data": {
      "text/html": [
       "<div>\n",
       "<style scoped>\n",
       "    .dataframe tbody tr th:only-of-type {\n",
       "        vertical-align: middle;\n",
       "    }\n",
       "\n",
       "    .dataframe tbody tr th {\n",
       "        vertical-align: top;\n",
       "    }\n",
       "\n",
       "    .dataframe thead th {\n",
       "        text-align: right;\n",
       "    }\n",
       "</style>\n",
       "<table border=\"1\" class=\"dataframe\">\n",
       "  <thead>\n",
       "    <tr style=\"text-align: right;\">\n",
       "      <th></th>\n",
       "      <th>Revenue</th>\n",
       "      <th>Profit</th>\n",
       "    </tr>\n",
       "  </thead>\n",
       "  <tbody>\n",
       "    <tr>\n",
       "      <th>0</th>\n",
       "      <td>100</td>\n",
       "      <td>200</td>\n",
       "    </tr>\n",
       "    <tr>\n",
       "      <th>1</th>\n",
       "      <td>300</td>\n",
       "      <td>400</td>\n",
       "    </tr>\n",
       "    <tr>\n",
       "      <th>2</th>\n",
       "      <td>500</td>\n",
       "      <td>600</td>\n",
       "    </tr>\n",
       "  </tbody>\n",
       "</table>\n",
       "</div>"
      ],
      "text/plain": [
       "   Revenue  Profit\n",
       "0      100     200\n",
       "1      300     400\n",
       "2      500     600"
      ]
     },
     "execution_count": 21,
     "metadata": {},
     "output_type": "execute_result"
    }
   ],
   "source": [
    "array_2d_financial = np.array([[100, 200], [300, 400], [500, 600]])\n",
    "df_2d_financial = pd.DataFrame(array_2d_financial, columns=['Revenue', 'Profit'])\n",
    "df_2d_financial.head()"
   ]
  },
  {
   "cell_type": "markdown",
   "id": "ea5a886b",
   "metadata": {},
   "source": [
    "### Example 4: Converting a 2D NumPy array to a Pandas DataFrame\n",
    "\n",
    "Example 4 uses synthetic student grades to illustrate how to convert a 2D NumPy array to Pandas DataFrame"
   ]
  },
  {
   "cell_type": "code",
   "execution_count": 22,
   "id": "80fc6a35",
   "metadata": {},
   "outputs": [
    {
     "data": {
      "text/html": [
       "<div>\n",
       "<style scoped>\n",
       "    .dataframe tbody tr th:only-of-type {\n",
       "        vertical-align: middle;\n",
       "    }\n",
       "\n",
       "    .dataframe tbody tr th {\n",
       "        vertical-align: top;\n",
       "    }\n",
       "\n",
       "    .dataframe thead th {\n",
       "        text-align: right;\n",
       "    }\n",
       "</style>\n",
       "<table border=\"1\" class=\"dataframe\">\n",
       "  <thead>\n",
       "    <tr style=\"text-align: right;\">\n",
       "      <th></th>\n",
       "      <th>Math</th>\n",
       "      <th>Science</th>\n",
       "    </tr>\n",
       "  </thead>\n",
       "  <tbody>\n",
       "    <tr>\n",
       "      <th>0</th>\n",
       "      <td>85</td>\n",
       "      <td>90</td>\n",
       "    </tr>\n",
       "    <tr>\n",
       "      <th>1</th>\n",
       "      <td>78</td>\n",
       "      <td>82</td>\n",
       "    </tr>\n",
       "    <tr>\n",
       "      <th>2</th>\n",
       "      <td>92</td>\n",
       "      <td>88</td>\n",
       "    </tr>\n",
       "  </tbody>\n",
       "</table>\n",
       "</div>"
      ],
      "text/plain": [
       "   Math  Science\n",
       "0    85       90\n",
       "1    78       82\n",
       "2    92       88"
      ]
     },
     "execution_count": 22,
     "metadata": {},
     "output_type": "execute_result"
    }
   ],
   "source": [
    "array_2d_grades = np.array([[85, 90], [78, 82], [92, 88]])\n",
    "df_2d_grades = pd.DataFrame(array_2d_grades, columns=['Math', 'Science'])\n",
    "df_2d_grades.head()"
   ]
  },
  {
   "cell_type": "markdown",
   "id": "45b8a79a",
   "metadata": {},
   "source": [
    "### Example 5: Converting a 3D NumPy array to a Pandas DataFrame\n",
    "\n",
    "Example 5 illustrates how to convert synthetic image data (flattened for demonstration) from a 3-dimensional (3D) numpy array to Pandas DataFrame.\n"
   ]
  },
  {
   "cell_type": "code",
   "execution_count": 24,
   "id": "a5aeafb1",
   "metadata": {},
   "outputs": [
    {
     "data": {
      "text/html": [
       "<div>\n",
       "<style scoped>\n",
       "    .dataframe tbody tr th:only-of-type {\n",
       "        vertical-align: middle;\n",
       "    }\n",
       "\n",
       "    .dataframe tbody tr th {\n",
       "        vertical-align: top;\n",
       "    }\n",
       "\n",
       "    .dataframe thead th {\n",
       "        text-align: right;\n",
       "    }\n",
       "</style>\n",
       "<table border=\"1\" class=\"dataframe\">\n",
       "  <thead>\n",
       "    <tr style=\"text-align: right;\">\n",
       "      <th></th>\n",
       "      <th>R</th>\n",
       "      <th>G</th>\n",
       "      <th>B</th>\n",
       "    </tr>\n",
       "  </thead>\n",
       "  <tbody>\n",
       "    <tr>\n",
       "      <th>0</th>\n",
       "      <td>244</td>\n",
       "      <td>222</td>\n",
       "      <td>73</td>\n",
       "    </tr>\n",
       "    <tr>\n",
       "      <th>1</th>\n",
       "      <td>185</td>\n",
       "      <td>82</td>\n",
       "      <td>230</td>\n",
       "    </tr>\n",
       "    <tr>\n",
       "      <th>2</th>\n",
       "      <td>224</td>\n",
       "      <td>88</td>\n",
       "      <td>237</td>\n",
       "    </tr>\n",
       "    <tr>\n",
       "      <th>3</th>\n",
       "      <td>53</td>\n",
       "      <td>83</td>\n",
       "      <td>3</td>\n",
       "    </tr>\n",
       "  </tbody>\n",
       "</table>\n",
       "</div>"
      ],
      "text/plain": [
       "     R    G    B\n",
       "0  244  222   73\n",
       "1  185   82  230\n",
       "2  224   88  237\n",
       "3   53   83    3"
      ]
     },
     "execution_count": 24,
     "metadata": {},
     "output_type": "execute_result"
    }
   ],
   "source": [
    "array_3d_image = np.random.randint(0, 255, (2, 2, 3))  # Example 3D array\n",
    "df_3d_image = pd.DataFrame(array_3d_image.reshape(-1, 3), columns=['R', 'G', 'B'])\n",
    "df_3d_image.head()"
   ]
  },
  {
   "cell_type": "markdown",
   "id": "37d41eff",
   "metadata": {},
   "source": [
    "### Pandas Indexes\n",
    "\n",
    "In Pandas, an index is like a label or identifier for rows in a DataFrame or Series. It helps you access and manipulate data easily. Think of it as a unique ID for each row, making it easier to locate, slice, and perform operations on specific data. Indexes can be numbers, dates, or even strings, and you can customize them to suit your needs. They improve data alignment and efficiency when merging or joining datasets.\n",
    "\n",
    "In Pandas, a default index is automatically created when you generate a DataFrame or Series without specifying an index. This default index is a simple numerical sequence that starts at 0 and increments by 1 for each row. For example, if you create a DataFrame with 5 rows, the default index will be 0, 1, 2, 3, and 4. This default indexing allows you to easily reference and access rows by their position in the DataFrame or Series."
   ]
  },
  {
   "cell_type": "markdown",
   "id": "9386a185",
   "metadata": {},
   "source": [
    "### Example 6: Converting a 2D NumPy array to a Pandas DataFrame with MultiIndex\n",
    "\n",
    "Example 6 illustrates how to convert a 2-dimensional NumPy array to a Pandas DataFrame with MultiIndex.\n",
    "\n",
    "Note that in this example, we will create two indexes (MultiIndex).  A MultiIndex in Pandas, also known as a hierarchical index, allows you to have multiple levels of indexing on your DataFrame or Series. This can be useful for handling more complex datasets with multi-dimensional data. For instance, you might have data categorized by both 'Country' and 'Year'. With a MultiIndex, you can access and manipulate subsets of data more efficiently and perform operations on different levels of the hierarchy. \n",
    "\n",
    "In the example below, the MultiIndex consists of a combination of **Store** (Store 1, Store 2, Store 3) and **Quarter** (Q1, Q2).  What that means is that if you want to find a row related to the performance of Store 1 in Q1, you would have to provide the combination of both values as the unique identifier of a row of data."
   ]
  },
  {
   "cell_type": "code",
   "execution_count": 27,
   "id": "63e43a94",
   "metadata": {},
   "outputs": [
    {
     "data": {
      "text/html": [
       "<div>\n",
       "<style scoped>\n",
       "    .dataframe tbody tr th:only-of-type {\n",
       "        vertical-align: middle;\n",
       "    }\n",
       "\n",
       "    .dataframe tbody tr th {\n",
       "        vertical-align: top;\n",
       "    }\n",
       "\n",
       "    .dataframe thead th {\n",
       "        text-align: right;\n",
       "    }\n",
       "</style>\n",
       "<table border=\"1\" class=\"dataframe\">\n",
       "  <thead>\n",
       "    <tr style=\"text-align: right;\">\n",
       "      <th></th>\n",
       "      <th></th>\n",
       "      <th>Product A</th>\n",
       "      <th>Product B</th>\n",
       "    </tr>\n",
       "  </thead>\n",
       "  <tbody>\n",
       "    <tr>\n",
       "      <th rowspan=\"2\" valign=\"top\">Store 1</th>\n",
       "      <th>Q1</th>\n",
       "      <td>100</td>\n",
       "      <td>200</td>\n",
       "    </tr>\n",
       "    <tr>\n",
       "      <th>Q2</th>\n",
       "      <td>150</td>\n",
       "      <td>250</td>\n",
       "    </tr>\n",
       "    <tr>\n",
       "      <th>Store 2</th>\n",
       "      <th>Q1</th>\n",
       "      <td>200</td>\n",
       "      <td>300</td>\n",
       "    </tr>\n",
       "  </tbody>\n",
       "</table>\n",
       "</div>"
      ],
      "text/plain": [
       "            Product A  Product B\n",
       "Store 1 Q1        100        200\n",
       "        Q2        150        250\n",
       "Store 2 Q1        200        300"
      ]
     },
     "execution_count": 27,
     "metadata": {},
     "output_type": "execute_result"
    }
   ],
   "source": [
    "array_2d_sales = np.array([[100, 200], [150, 250], [200, 300]])\n",
    "index = pd.MultiIndex.from_product([['Store 1', 'Store 2', 'Store 3'], ['Q1', 'Q2']])\n",
    "df_2d_sales = pd.DataFrame(array_2d_sales, index=index[:3], columns=['Product A', 'Product B'])\n",
    "df_2d_sales"
   ]
  },
  {
   "cell_type": "markdown",
   "id": "62dd5e80",
   "metadata": {},
   "source": [
    "### Example 8: Converting a 1D NumPy array to a Pandas DataFrame with DatetimeIndex\n",
    "\n",
    "A DatetimeIndex in Pandas is a type of index specifically designed for handling time-series data. It allows you to index your data using datetime objects, which makes it easier to perform date-related operations and analysis. Here are some key features and uses of DatetimeIndex:\n",
    "\n",
    "* **Time-Based Indexing**: You can easily select and slice data based on dates. For example, you can retrieve data for a specific day, month, or year.\n",
    "* **Resampling**: You can resample your time series data to different frequencies, such as converting daily data to monthly data, or vice versa.\n",
    "* **Time Series Analysis**: Functions like rolling, expanding, and time-based groupby operations become more intuitive and powerful with DatetimeIndex.\n",
    "* **Handling Missing Data**: DatetimeIndex makes it easier to identify and handle missing dates in your time series data."
   ]
  },
  {
   "cell_type": "code",
   "execution_count": 28,
   "id": "82112b91",
   "metadata": {},
   "outputs": [
    {
     "data": {
      "text/html": [
       "<div>\n",
       "<style scoped>\n",
       "    .dataframe tbody tr th:only-of-type {\n",
       "        vertical-align: middle;\n",
       "    }\n",
       "\n",
       "    .dataframe tbody tr th {\n",
       "        vertical-align: top;\n",
       "    }\n",
       "\n",
       "    .dataframe thead th {\n",
       "        text-align: right;\n",
       "    }\n",
       "</style>\n",
       "<table border=\"1\" class=\"dataframe\">\n",
       "  <thead>\n",
       "    <tr style=\"text-align: right;\">\n",
       "      <th></th>\n",
       "      <th>Stock Price</th>\n",
       "    </tr>\n",
       "  </thead>\n",
       "  <tbody>\n",
       "    <tr>\n",
       "      <th>2023-01-01</th>\n",
       "      <td>100</td>\n",
       "    </tr>\n",
       "    <tr>\n",
       "      <th>2023-01-02</th>\n",
       "      <td>102</td>\n",
       "    </tr>\n",
       "    <tr>\n",
       "      <th>2023-01-03</th>\n",
       "      <td>101</td>\n",
       "    </tr>\n",
       "    <tr>\n",
       "      <th>2023-01-04</th>\n",
       "      <td>105</td>\n",
       "    </tr>\n",
       "    <tr>\n",
       "      <th>2023-01-05</th>\n",
       "      <td>110</td>\n",
       "    </tr>\n",
       "  </tbody>\n",
       "</table>\n",
       "</div>"
      ],
      "text/plain": [
       "            Stock Price\n",
       "2023-01-01          100\n",
       "2023-01-02          102\n",
       "2023-01-03          101\n",
       "2023-01-04          105\n",
       "2023-01-05          110"
      ]
     },
     "execution_count": 28,
     "metadata": {},
     "output_type": "execute_result"
    }
   ],
   "source": [
    "dates = pd.date_range('2023-01-01', periods=5)\n",
    "array_1d_stock_prices = np.array([100, 102, 101, 105, 110])\n",
    "df_1d_stock_prices = pd.DataFrame(array_1d_stock_prices, index=dates, columns=['Stock Price'])\n",
    "df_1d_stock_prices"
   ]
  },
  {
   "cell_type": "markdown",
   "id": "1777d37f",
   "metadata": {},
   "source": [
    "### Example 8: Converting a 2D NumPy array to a Pandas DataFrame with custom index\n",
    "\n",
    "Custom indexes in Pandas allow you to define your own labels for the rows of a DataFrame or Series instead of using the default numerical index. This can make your data easier to understand and work with, especially when the labels have meaningful significance in the context of your analysis."
   ]
  },
  {
   "cell_type": "code",
   "execution_count": 30,
   "id": "46fa59de",
   "metadata": {},
   "outputs": [
    {
     "data": {
      "text/html": [
       "<div>\n",
       "<style scoped>\n",
       "    .dataframe tbody tr th:only-of-type {\n",
       "        vertical-align: middle;\n",
       "    }\n",
       "\n",
       "    .dataframe tbody tr th {\n",
       "        vertical-align: top;\n",
       "    }\n",
       "\n",
       "    .dataframe thead th {\n",
       "        text-align: right;\n",
       "    }\n",
       "</style>\n",
       "<table border=\"1\" class=\"dataframe\">\n",
       "  <thead>\n",
       "    <tr style=\"text-align: right;\">\n",
       "      <th></th>\n",
       "      <th>2019</th>\n",
       "      <th>2020</th>\n",
       "    </tr>\n",
       "  </thead>\n",
       "  <tbody>\n",
       "    <tr>\n",
       "      <th>City A</th>\n",
       "      <td>1000</td>\n",
       "      <td>2000</td>\n",
       "    </tr>\n",
       "    <tr>\n",
       "      <th>City B</th>\n",
       "      <td>1500</td>\n",
       "      <td>2500</td>\n",
       "    </tr>\n",
       "    <tr>\n",
       "      <th>City C</th>\n",
       "      <td>1200</td>\n",
       "      <td>2200</td>\n",
       "    </tr>\n",
       "  </tbody>\n",
       "</table>\n",
       "</div>"
      ],
      "text/plain": [
       "        2019  2020\n",
       "City A  1000  2000\n",
       "City B  1500  2500\n",
       "City C  1200  2200"
      ]
     },
     "execution_count": 30,
     "metadata": {},
     "output_type": "execute_result"
    }
   ],
   "source": [
    "array_2d_population = np.array([[1000, 2000], [1500, 2500], [1200, 2200]])\n",
    "df_2d_population = pd.DataFrame(array_2d_population, index=['City A', 'City B', 'City C'], columns=['2019', '2020'])\n",
    "df_2d_population\n"
   ]
  },
  {
   "cell_type": "markdown",
   "id": "fd958a98",
   "metadata": {},
   "source": [
    "### Example 9: Converting a 1D NumPy array to a Pandas DataFrame with custom index and column names"
   ]
  },
  {
   "cell_type": "code",
   "execution_count": 31,
   "id": "dbe6277c",
   "metadata": {},
   "outputs": [
    {
     "data": {
      "text/html": [
       "<div>\n",
       "<style scoped>\n",
       "    .dataframe tbody tr th:only-of-type {\n",
       "        vertical-align: middle;\n",
       "    }\n",
       "\n",
       "    .dataframe tbody tr th {\n",
       "        vertical-align: top;\n",
       "    }\n",
       "\n",
       "    .dataframe thead th {\n",
       "        text-align: right;\n",
       "    }\n",
       "</style>\n",
       "<table border=\"1\" class=\"dataframe\">\n",
       "  <thead>\n",
       "    <tr style=\"text-align: right;\">\n",
       "      <th></th>\n",
       "      <th>Goals</th>\n",
       "    </tr>\n",
       "  </thead>\n",
       "  <tbody>\n",
       "    <tr>\n",
       "      <th>Player 1</th>\n",
       "      <td>20</td>\n",
       "    </tr>\n",
       "    <tr>\n",
       "      <th>Player 2</th>\n",
       "      <td>15</td>\n",
       "    </tr>\n",
       "    <tr>\n",
       "      <th>Player 3</th>\n",
       "      <td>25</td>\n",
       "    </tr>\n",
       "  </tbody>\n",
       "</table>\n",
       "</div>"
      ],
      "text/plain": [
       "          Goals\n",
       "Player 1     20\n",
       "Player 2     15\n",
       "Player 3     25"
      ]
     },
     "execution_count": 31,
     "metadata": {},
     "output_type": "execute_result"
    }
   ],
   "source": [
    "array_1d_sports = np.array([20, 15, 25])\n",
    "df_1d_sports = pd.DataFrame(array_1d_sports, index=['Player 1', 'Player 2', 'Player 3'], columns=['Goals'])\n",
    "df_1d_sports"
   ]
  },
  {
   "cell_type": "code",
   "execution_count": null,
   "id": "38de00ea",
   "metadata": {},
   "outputs": [],
   "source": []
  }
 ],
 "metadata": {
  "kernelspec": {
   "display_name": "Python 3 (ipykernel)",
   "language": "python",
   "name": "python3"
  },
  "language_info": {
   "codemirror_mode": {
    "name": "ipython",
    "version": 3
   },
   "file_extension": ".py",
   "mimetype": "text/x-python",
   "name": "python",
   "nbconvert_exporter": "python",
   "pygments_lexer": "ipython3",
   "version": "3.9.13"
  }
 },
 "nbformat": 4,
 "nbformat_minor": 5
}
