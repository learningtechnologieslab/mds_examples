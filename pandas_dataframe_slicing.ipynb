{
 "cells": [
  {
   "cell_type": "markdown",
   "id": "42644b2e",
   "metadata": {},
   "source": [
    "## Pandas DataFrame Slicing"
   ]
  },
  {
   "cell_type": "markdown",
   "id": "bcc70a7f",
   "metadata": {},
   "source": [
    "**Terminology**\n",
    "* **Indexes**: DataFrame indices are labels or integers that uniquely identify rows and columns within a Pandas DataFrame, enabling efficient data access and manipulation. They can be either named (label-based) or sequential (integer-based), providing flexibility in how data is referenced and managed.\n",
    "* **Slicing**: DataFrame slicing refers to the process of selecting a subset of rows and/or columns from a Pandas DataFrame using indexing techniques. This can be done through label-based indexing with loc[] or position-based indexing with iloc[], enabling efficient extraction and manipulation of specific portions of the data.\n"
   ]
  },
  {
   "cell_type": "code",
   "execution_count": 1,
   "id": "a3209859",
   "metadata": {},
   "outputs": [],
   "source": [
    "import pandas as pd"
   ]
  },
  {
   "cell_type": "code",
   "execution_count": 13,
   "id": "b3419e45",
   "metadata": {},
   "outputs": [
    {
     "data": {
      "text/html": [
       "<div>\n",
       "<style scoped>\n",
       "    .dataframe tbody tr th:only-of-type {\n",
       "        vertical-align: middle;\n",
       "    }\n",
       "\n",
       "    .dataframe tbody tr th {\n",
       "        vertical-align: top;\n",
       "    }\n",
       "\n",
       "    .dataframe thead th {\n",
       "        text-align: right;\n",
       "    }\n",
       "</style>\n",
       "<table border=\"1\" class=\"dataframe\">\n",
       "  <thead>\n",
       "    <tr style=\"text-align: right;\">\n",
       "      <th></th>\n",
       "      <th>A</th>\n",
       "      <th>B</th>\n",
       "      <th>C</th>\n",
       "    </tr>\n",
       "  </thead>\n",
       "  <tbody>\n",
       "    <tr>\n",
       "      <th>0</th>\n",
       "      <td>1</td>\n",
       "      <td>5</td>\n",
       "      <td>9</td>\n",
       "    </tr>\n",
       "    <tr>\n",
       "      <th>1</th>\n",
       "      <td>2</td>\n",
       "      <td>6</td>\n",
       "      <td>10</td>\n",
       "    </tr>\n",
       "    <tr>\n",
       "      <th>2</th>\n",
       "      <td>3</td>\n",
       "      <td>7</td>\n",
       "      <td>11</td>\n",
       "    </tr>\n",
       "    <tr>\n",
       "      <th>3</th>\n",
       "      <td>4</td>\n",
       "      <td>8</td>\n",
       "      <td>12</td>\n",
       "    </tr>\n",
       "  </tbody>\n",
       "</table>\n",
       "</div>"
      ],
      "text/plain": [
       "   A  B   C\n",
       "0  1  5   9\n",
       "1  2  6  10\n",
       "2  3  7  11\n",
       "3  4  8  12"
      ]
     },
     "execution_count": 13,
     "metadata": {},
     "output_type": "execute_result"
    }
   ],
   "source": [
    "# A sample DataFrame\n",
    "data = {\n",
    "    'A': [1, 2, 3, 4],\n",
    "    'B': [5, 6, 7, 8],\n",
    "    'C': [9, 10, 11, 12]\n",
    "}\n",
    "df = pd.DataFrame(data)\n",
    "df"
   ]
  },
  {
   "cell_type": "code",
   "execution_count": null,
   "id": "8416c3ce",
   "metadata": {
    "collapsed": true
   },
   "outputs": [],
   "source": []
  },
  {
   "cell_type": "markdown",
   "id": "f81e2683",
   "metadata": {},
   "source": [
    "### Example 1: Accessing a single column using []"
   ]
  },
  {
   "cell_type": "code",
   "execution_count": 15,
   "id": "23d408a6",
   "metadata": {
    "scrolled": true
   },
   "outputs": [
    {
     "data": {
      "text/plain": [
       "0    1\n",
       "1    2\n",
       "2    3\n",
       "3    4\n",
       "Name: A, dtype: int64"
      ]
     },
     "execution_count": 15,
     "metadata": {},
     "output_type": "execute_result"
    }
   ],
   "source": [
    "# Accessing column 'A' using []:\n",
    "\n",
    "df['A']"
   ]
  },
  {
   "cell_type": "markdown",
   "id": "50cd8af8",
   "metadata": {},
   "source": [
    "### Example 2: Accessing multiple columns using [[]]"
   ]
  },
  {
   "cell_type": "code",
   "execution_count": 16,
   "id": "572217c6",
   "metadata": {},
   "outputs": [
    {
     "data": {
      "text/html": [
       "<div>\n",
       "<style scoped>\n",
       "    .dataframe tbody tr th:only-of-type {\n",
       "        vertical-align: middle;\n",
       "    }\n",
       "\n",
       "    .dataframe tbody tr th {\n",
       "        vertical-align: top;\n",
       "    }\n",
       "\n",
       "    .dataframe thead th {\n",
       "        text-align: right;\n",
       "    }\n",
       "</style>\n",
       "<table border=\"1\" class=\"dataframe\">\n",
       "  <thead>\n",
       "    <tr style=\"text-align: right;\">\n",
       "      <th></th>\n",
       "      <th>A</th>\n",
       "      <th>B</th>\n",
       "    </tr>\n",
       "  </thead>\n",
       "  <tbody>\n",
       "    <tr>\n",
       "      <th>0</th>\n",
       "      <td>1</td>\n",
       "      <td>5</td>\n",
       "    </tr>\n",
       "    <tr>\n",
       "      <th>1</th>\n",
       "      <td>2</td>\n",
       "      <td>6</td>\n",
       "    </tr>\n",
       "    <tr>\n",
       "      <th>2</th>\n",
       "      <td>3</td>\n",
       "      <td>7</td>\n",
       "    </tr>\n",
       "    <tr>\n",
       "      <th>3</th>\n",
       "      <td>4</td>\n",
       "      <td>8</td>\n",
       "    </tr>\n",
       "  </tbody>\n",
       "</table>\n",
       "</div>"
      ],
      "text/plain": [
       "   A  B\n",
       "0  1  5\n",
       "1  2  6\n",
       "2  3  7\n",
       "3  4  8"
      ]
     },
     "execution_count": 16,
     "metadata": {},
     "output_type": "execute_result"
    }
   ],
   "source": [
    "# Accessing columns 'A' and 'B' using [[]]:\n",
    "\n",
    "df[['A','B']]"
   ]
  },
  {
   "cell_type": "markdown",
   "id": "e4464b2a",
   "metadata": {},
   "source": [
    "### Example 3: Accessing rows and columns using .loc[]\n",
    "\n",
    "\n",
    "**.loc[]** is a Pandas method used for label-based indexing, allowing you to access a group of rows and columns by their labels or a boolean array. It is primarily used for selecting and manipulating data based on the explicit labels of rows and columns, making it intuitive and readable when working with named indexes.\n",
    "\n",
    "**.loc[]** is label-based, so we need to specify row and column labels."
   ]
  },
  {
   "cell_type": "code",
   "execution_count": 18,
   "id": "483fe54d",
   "metadata": {},
   "outputs": [
    {
     "data": {
      "text/plain": [
       "6"
      ]
     },
     "execution_count": 18,
     "metadata": {},
     "output_type": "execute_result"
    }
   ],
   "source": [
    "# Accessing row 1 and column 'B' using loc[]\n",
    "\n",
    "df.loc[1, 'B']"
   ]
  },
  {
   "cell_type": "markdown",
   "id": "16d9f649",
   "metadata": {},
   "source": [
    "### Example 4: Accessing rows and columns using iloc[]\n",
    "\n",
    "**.iloc[]** is a Pandas method used for position-based indexing, allowing you to access a group of rows and columns by their integer positions. It is useful for selecting and manipulating data based on the numerical indices of rows and columns, providing a straightforward way to perform operations when labels are not known or not used.\n",
    "\n",
    "**.iloc[]** is position-based, so we need to specify row and column indices.\n"
   ]
  },
  {
   "cell_type": "code",
   "execution_count": 20,
   "id": "132b838f",
   "metadata": {},
   "outputs": [
    {
     "data": {
      "text/plain": [
       "6"
      ]
     },
     "execution_count": 20,
     "metadata": {},
     "output_type": "execute_result"
    }
   ],
   "source": [
    "# Accessing row 1 and column 1 using iloc[]\n",
    "\n",
    "df.iloc[1, 1]"
   ]
  },
  {
   "cell_type": "markdown",
   "id": "9786b40d",
   "metadata": {},
   "source": [
    "### Example 5: Slicing rows and columns using loc[]"
   ]
  },
  {
   "cell_type": "code",
   "execution_count": 21,
   "id": "0ba4e683",
   "metadata": {},
   "outputs": [
    {
     "data": {
      "text/html": [
       "<div>\n",
       "<style scoped>\n",
       "    .dataframe tbody tr th:only-of-type {\n",
       "        vertical-align: middle;\n",
       "    }\n",
       "\n",
       "    .dataframe tbody tr th {\n",
       "        vertical-align: top;\n",
       "    }\n",
       "\n",
       "    .dataframe thead th {\n",
       "        text-align: right;\n",
       "    }\n",
       "</style>\n",
       "<table border=\"1\" class=\"dataframe\">\n",
       "  <thead>\n",
       "    <tr style=\"text-align: right;\">\n",
       "      <th></th>\n",
       "      <th>A</th>\n",
       "      <th>B</th>\n",
       "    </tr>\n",
       "  </thead>\n",
       "  <tbody>\n",
       "    <tr>\n",
       "      <th>1</th>\n",
       "      <td>2</td>\n",
       "      <td>6</td>\n",
       "    </tr>\n",
       "    <tr>\n",
       "      <th>2</th>\n",
       "      <td>3</td>\n",
       "      <td>7</td>\n",
       "    </tr>\n",
       "    <tr>\n",
       "      <th>3</th>\n",
       "      <td>4</td>\n",
       "      <td>8</td>\n",
       "    </tr>\n",
       "  </tbody>\n",
       "</table>\n",
       "</div>"
      ],
      "text/plain": [
       "   A  B\n",
       "1  2  6\n",
       "2  3  7\n",
       "3  4  8"
      ]
     },
     "execution_count": 21,
     "metadata": {},
     "output_type": "execute_result"
    }
   ],
   "source": [
    "# Slicing rows 1 to 3 and columns 'A' and 'B' using loc[]\n",
    "\n",
    "df.loc[1:3, ['A', 'B']]\n",
    "\n"
   ]
  },
  {
   "cell_type": "markdown",
   "id": "9bb26000",
   "metadata": {},
   "source": [
    "### Example 6: Slicing rows and columns using iloc[]"
   ]
  },
  {
   "cell_type": "code",
   "execution_count": 22,
   "id": "1731bf5f",
   "metadata": {},
   "outputs": [
    {
     "data": {
      "text/html": [
       "<div>\n",
       "<style scoped>\n",
       "    .dataframe tbody tr th:only-of-type {\n",
       "        vertical-align: middle;\n",
       "    }\n",
       "\n",
       "    .dataframe tbody tr th {\n",
       "        vertical-align: top;\n",
       "    }\n",
       "\n",
       "    .dataframe thead th {\n",
       "        text-align: right;\n",
       "    }\n",
       "</style>\n",
       "<table border=\"1\" class=\"dataframe\">\n",
       "  <thead>\n",
       "    <tr style=\"text-align: right;\">\n",
       "      <th></th>\n",
       "      <th>A</th>\n",
       "      <th>B</th>\n",
       "    </tr>\n",
       "  </thead>\n",
       "  <tbody>\n",
       "    <tr>\n",
       "      <th>1</th>\n",
       "      <td>2</td>\n",
       "      <td>6</td>\n",
       "    </tr>\n",
       "    <tr>\n",
       "      <th>2</th>\n",
       "      <td>3</td>\n",
       "      <td>7</td>\n",
       "    </tr>\n",
       "  </tbody>\n",
       "</table>\n",
       "</div>"
      ],
      "text/plain": [
       "   A  B\n",
       "1  2  6\n",
       "2  3  7"
      ]
     },
     "execution_count": 22,
     "metadata": {},
     "output_type": "execute_result"
    }
   ],
   "source": [
    "# Slicing rows 1 to 3 and columns 0 and 1 using iloc[]\n",
    "\n",
    "df.iloc[1:3, 0:2]"
   ]
  },
  {
   "cell_type": "code",
   "execution_count": 23,
   "id": "3a6bba08",
   "metadata": {},
   "outputs": [
    {
     "data": {
      "text/html": [
       "<div>\n",
       "<style scoped>\n",
       "    .dataframe tbody tr th:only-of-type {\n",
       "        vertical-align: middle;\n",
       "    }\n",
       "\n",
       "    .dataframe tbody tr th {\n",
       "        vertical-align: top;\n",
       "    }\n",
       "\n",
       "    .dataframe thead th {\n",
       "        text-align: right;\n",
       "    }\n",
       "</style>\n",
       "<table border=\"1\" class=\"dataframe\">\n",
       "  <thead>\n",
       "    <tr style=\"text-align: right;\">\n",
       "      <th></th>\n",
       "      <th>A</th>\n",
       "      <th>B</th>\n",
       "      <th>C</th>\n",
       "    </tr>\n",
       "  </thead>\n",
       "  <tbody>\n",
       "    <tr>\n",
       "      <th>a</th>\n",
       "      <td>1</td>\n",
       "      <td>5</td>\n",
       "      <td>9</td>\n",
       "    </tr>\n",
       "    <tr>\n",
       "      <th>b</th>\n",
       "      <td>2</td>\n",
       "      <td>6</td>\n",
       "      <td>10</td>\n",
       "    </tr>\n",
       "    <tr>\n",
       "      <th>c</th>\n",
       "      <td>3</td>\n",
       "      <td>7</td>\n",
       "      <td>11</td>\n",
       "    </tr>\n",
       "    <tr>\n",
       "      <th>d</th>\n",
       "      <td>4</td>\n",
       "      <td>8</td>\n",
       "      <td>12</td>\n",
       "    </tr>\n",
       "  </tbody>\n",
       "</table>\n",
       "</div>"
      ],
      "text/plain": [
       "   A  B   C\n",
       "a  1  5   9\n",
       "b  2  6  10\n",
       "c  3  7  11\n",
       "d  4  8  12"
      ]
     },
     "execution_count": 23,
     "metadata": {},
     "output_type": "execute_result"
    }
   ],
   "source": [
    "# Creating a DataFrame with a named index\n",
    "data_named_index = {\n",
    "    'A': [1, 2, 3, 4],\n",
    "    'B': [5, 6, 7, 8],\n",
    "    'C': [9, 10, 11, 12]\n",
    "}\n",
    "index = ['a', 'b', 'c', 'd']\n",
    "\n",
    "df_named = pd.DataFrame(data_named_index, index=index)\n",
    "df_named\n"
   ]
  },
  {
   "cell_type": "markdown",
   "id": "b14ac807",
   "metadata": {},
   "source": [
    "### Example 7: Accessing rows using named index with loc[]"
   ]
  },
  {
   "cell_type": "code",
   "execution_count": 24,
   "id": "46aa7fcf",
   "metadata": {},
   "outputs": [
    {
     "data": {
      "text/plain": [
       "A     2\n",
       "B     6\n",
       "C    10\n",
       "Name: b, dtype: int64"
      ]
     },
     "execution_count": 24,
     "metadata": {},
     "output_type": "execute_result"
    }
   ],
   "source": [
    "# Accessing row 'b' using loc[]\n",
    "\n",
    "df_named.loc['b']"
   ]
  },
  {
   "cell_type": "markdown",
   "id": "0b491802",
   "metadata": {},
   "source": [
    "### Example 8: Accessing rows using named index with iloc[]\n",
    "\n",
    "**.iloc[]** does not use named index, so we access by position"
   ]
  },
  {
   "cell_type": "code",
   "execution_count": 25,
   "id": "c2d1062b",
   "metadata": {},
   "outputs": [
    {
     "data": {
      "text/plain": [
       "A     2\n",
       "B     6\n",
       "C    10\n",
       "Name: b, dtype: int64"
      ]
     },
     "execution_count": 25,
     "metadata": {},
     "output_type": "execute_result"
    }
   ],
   "source": [
    "# Accessing row 1 using iloc[]\n",
    "\n",
    "df_named.iloc[1]"
   ]
  },
  {
   "cell_type": "markdown",
   "id": "221a39fd",
   "metadata": {},
   "source": [
    "### Example 9: Accessing a range of rows using named index with loc[]"
   ]
  },
  {
   "cell_type": "code",
   "execution_count": 26,
   "id": "cda22f70",
   "metadata": {},
   "outputs": [
    {
     "data": {
      "text/html": [
       "<div>\n",
       "<style scoped>\n",
       "    .dataframe tbody tr th:only-of-type {\n",
       "        vertical-align: middle;\n",
       "    }\n",
       "\n",
       "    .dataframe tbody tr th {\n",
       "        vertical-align: top;\n",
       "    }\n",
       "\n",
       "    .dataframe thead th {\n",
       "        text-align: right;\n",
       "    }\n",
       "</style>\n",
       "<table border=\"1\" class=\"dataframe\">\n",
       "  <thead>\n",
       "    <tr style=\"text-align: right;\">\n",
       "      <th></th>\n",
       "      <th>A</th>\n",
       "      <th>B</th>\n",
       "      <th>C</th>\n",
       "    </tr>\n",
       "  </thead>\n",
       "  <tbody>\n",
       "    <tr>\n",
       "      <th>b</th>\n",
       "      <td>2</td>\n",
       "      <td>6</td>\n",
       "      <td>10</td>\n",
       "    </tr>\n",
       "    <tr>\n",
       "      <th>c</th>\n",
       "      <td>3</td>\n",
       "      <td>7</td>\n",
       "      <td>11</td>\n",
       "    </tr>\n",
       "    <tr>\n",
       "      <th>d</th>\n",
       "      <td>4</td>\n",
       "      <td>8</td>\n",
       "      <td>12</td>\n",
       "    </tr>\n",
       "  </tbody>\n",
       "</table>\n",
       "</div>"
      ],
      "text/plain": [
       "   A  B   C\n",
       "b  2  6  10\n",
       "c  3  7  11\n",
       "d  4  8  12"
      ]
     },
     "execution_count": 26,
     "metadata": {},
     "output_type": "execute_result"
    }
   ],
   "source": [
    "# Accessing rows 'b' to 'd' using loc[]\n",
    "\n",
    "df_named.loc['b':'d']"
   ]
  },
  {
   "cell_type": "markdown",
   "id": "d6e49275",
   "metadata": {},
   "source": [
    "### Example 10: Accessing a range of rows using named index with iloc[]"
   ]
  },
  {
   "cell_type": "code",
   "execution_count": 28,
   "id": "2073098e",
   "metadata": {},
   "outputs": [
    {
     "data": {
      "text/html": [
       "<div>\n",
       "<style scoped>\n",
       "    .dataframe tbody tr th:only-of-type {\n",
       "        vertical-align: middle;\n",
       "    }\n",
       "\n",
       "    .dataframe tbody tr th {\n",
       "        vertical-align: top;\n",
       "    }\n",
       "\n",
       "    .dataframe thead th {\n",
       "        text-align: right;\n",
       "    }\n",
       "</style>\n",
       "<table border=\"1\" class=\"dataframe\">\n",
       "  <thead>\n",
       "    <tr style=\"text-align: right;\">\n",
       "      <th></th>\n",
       "      <th>A</th>\n",
       "      <th>B</th>\n",
       "      <th>C</th>\n",
       "    </tr>\n",
       "  </thead>\n",
       "  <tbody>\n",
       "    <tr>\n",
       "      <th>b</th>\n",
       "      <td>2</td>\n",
       "      <td>6</td>\n",
       "      <td>10</td>\n",
       "    </tr>\n",
       "    <tr>\n",
       "      <th>c</th>\n",
       "      <td>3</td>\n",
       "      <td>7</td>\n",
       "      <td>11</td>\n",
       "    </tr>\n",
       "    <tr>\n",
       "      <th>d</th>\n",
       "      <td>4</td>\n",
       "      <td>8</td>\n",
       "      <td>12</td>\n",
       "    </tr>\n",
       "  </tbody>\n",
       "</table>\n",
       "</div>"
      ],
      "text/plain": [
       "   A  B   C\n",
       "b  2  6  10\n",
       "c  3  7  11\n",
       "d  4  8  12"
      ]
     },
     "execution_count": 28,
     "metadata": {},
     "output_type": "execute_result"
    }
   ],
   "source": [
    "#Accessing rows 1 to 3 using iloc[]\n",
    "\n",
    "df_named.iloc[1:4]"
   ]
  },
  {
   "cell_type": "markdown",
   "id": "160220a3",
   "metadata": {},
   "source": [
    "### Example 11: Accessing specific columns with loc[] and iloc[]\n",
    "**Differences between named and sequential indexes**\n",
    "* Named indexes allow accessing data using labels, making the code more readable and intuitive.\n",
    "* Sequential indexes use integer positions, which can be less readable but useful for numerical slicing.\n"
   ]
  },
  {
   "cell_type": "code",
   "execution_count": 32,
   "id": "1d7f4447",
   "metadata": {},
   "outputs": [
    {
     "name": "stdout",
     "output_type": "stream",
     "text": [
      "Accessing columns 'A' and 'C' for rows 'b' to 'd' using loc[]\n",
      "   A   C\n",
      "b  2  10\n",
      "c  3  11\n",
      "d  4  12\n",
      "\n",
      "\n",
      "Accessing columns 0 and 2 for rows 1 to 3 using iloc[]\n",
      "   A   C\n",
      "b  2  10\n",
      "c  3  11\n",
      "d  4  12\n",
      "\n",
      "\n"
     ]
    }
   ],
   "source": [
    "# Accessing columns 'A' and 'C' for rows 'b' to 'd' using loc[]\n",
    "print(\"Accessing columns 'A' and 'C' for rows 'b' to 'd' using loc[]\")\n",
    "print(df_named.loc['b':'d', ['A', 'C']])\n",
    "print('\\n')\n",
    "\n",
    "# Accessing columns 0 and 2 for rows 1 to 3 using iloc[]\n",
    "print(\"Accessing columns 0 and 2 for rows 1 to 3 using iloc[]\")\n",
    "print(df_named.iloc[1:4, [0, 2]])\n",
    "print('\\n')"
   ]
  },
  {
   "cell_type": "code",
   "execution_count": null,
   "id": "a7ed57f4",
   "metadata": {},
   "outputs": [],
   "source": []
  }
 ],
 "metadata": {
  "kernelspec": {
   "display_name": "Python 3 (ipykernel)",
   "language": "python",
   "name": "python3"
  },
  "language_info": {
   "codemirror_mode": {
    "name": "ipython",
    "version": 3
   },
   "file_extension": ".py",
   "mimetype": "text/x-python",
   "name": "python",
   "nbconvert_exporter": "python",
   "pygments_lexer": "ipython3",
   "version": "3.9.13"
  }
 },
 "nbformat": 4,
 "nbformat_minor": 5
}
