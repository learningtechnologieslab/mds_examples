{
 "cells": [
  {
   "cell_type": "markdown",
   "id": "20c20962",
   "metadata": {},
   "source": [
    "## Converting Python Dictionary to Pandas DataFrame"
   ]
  },
  {
   "cell_type": "markdown",
   "id": "96a88984",
   "metadata": {},
   "source": [
    "#### Terminology\n",
    "\n",
    "* **Dictionary**: A Python dictionary is a built-in data type that stores data in key-value pairs, allowing you to quickly retrieve values based on their associated keys. Keys in a dictionary must be immutable and unique, while values can be of any data type and can be duplicated. Dictionaries are defined using curly braces {}, with keys and values separated by colons, and items separated by commas.\n",
    "* **DataFrame**: A two-dimensional, size-mutable, and heterogeneous tabular data structure with labeled axes (rows and columns). It can be thought of as a collection of Series objects, where each Series represents a column. DataFrames are similar to a table in a relational database or an Excel spreadsheet."
   ]
  },
  {
   "cell_type": "code",
   "execution_count": 17,
   "id": "21acd53e",
   "metadata": {},
   "outputs": [],
   "source": [
    "import pandas as pd"
   ]
  },
  {
   "cell_type": "markdown",
   "id": "af588ba0",
   "metadata": {},
   "source": [
    "**Examples 1-5** explore converting a Python dictionary into a Pandas DataFrame.  The original dictionary contains key/value pairs where keys are strings and values are lists.  In the default Dictionary-to-DataFrame conversion behavior, Pandas converts dictionary keys to column names and each value (list) becomes a column of data.  \n",
    "\n",
    "This conversion example assumes that every list that constitutes a value in the dictionary has the same length."
   ]
  },
  {
   "cell_type": "markdown",
   "id": "fba962d9",
   "metadata": {},
   "source": [
    "### Example 1: Financial Data"
   ]
  },
  {
   "cell_type": "code",
   "execution_count": 15,
   "id": "d5f0396f",
   "metadata": {},
   "outputs": [
    {
     "data": {
      "text/html": [
       "<div>\n",
       "<style scoped>\n",
       "    .dataframe tbody tr th:only-of-type {\n",
       "        vertical-align: middle;\n",
       "    }\n",
       "\n",
       "    .dataframe tbody tr th {\n",
       "        vertical-align: top;\n",
       "    }\n",
       "\n",
       "    .dataframe thead th {\n",
       "        text-align: right;\n",
       "    }\n",
       "</style>\n",
       "<table border=\"1\" class=\"dataframe\">\n",
       "  <thead>\n",
       "    <tr style=\"text-align: right;\">\n",
       "      <th></th>\n",
       "      <th>Date</th>\n",
       "      <th>AAPL</th>\n",
       "      <th>GOOGL</th>\n",
       "    </tr>\n",
       "  </thead>\n",
       "  <tbody>\n",
       "    <tr>\n",
       "      <th>0</th>\n",
       "      <td>2024-01-01</td>\n",
       "      <td>150.75</td>\n",
       "      <td>2750.23</td>\n",
       "    </tr>\n",
       "    <tr>\n",
       "      <th>1</th>\n",
       "      <td>2024-01-02</td>\n",
       "      <td>153.31</td>\n",
       "      <td>2773.12</td>\n",
       "    </tr>\n",
       "    <tr>\n",
       "      <th>2</th>\n",
       "      <td>2024-01-03</td>\n",
       "      <td>155.89</td>\n",
       "      <td>2798.65</td>\n",
       "    </tr>\n",
       "  </tbody>\n",
       "</table>\n",
       "</div>"
      ],
      "text/plain": [
       "         Date    AAPL    GOOGL\n",
       "0  2024-01-01  150.75  2750.23\n",
       "1  2024-01-02  153.31  2773.12\n",
       "2  2024-01-03  155.89  2798.65"
      ]
     },
     "execution_count": 15,
     "metadata": {},
     "output_type": "execute_result"
    }
   ],
   "source": [
    "stock_data = {\n",
    "    'Date': ['2024-01-01', '2024-01-02', '2024-01-03'],\n",
    "    'AAPL': [150.75, 153.31, 155.89],\n",
    "    'GOOGL': [2750.23, 2773.12, 2798.65]\n",
    "}\n",
    "df_stocks = pd.DataFrame(stock_data)\n",
    "df_stocks"
   ]
  },
  {
   "cell_type": "markdown",
   "id": "51d6fced",
   "metadata": {},
   "source": [
    "### Example 2: Academic Grades"
   ]
  },
  {
   "cell_type": "code",
   "execution_count": 16,
   "id": "eadb1454",
   "metadata": {},
   "outputs": [
    {
     "data": {
      "text/html": [
       "<div>\n",
       "<style scoped>\n",
       "    .dataframe tbody tr th:only-of-type {\n",
       "        vertical-align: middle;\n",
       "    }\n",
       "\n",
       "    .dataframe tbody tr th {\n",
       "        vertical-align: top;\n",
       "    }\n",
       "\n",
       "    .dataframe thead th {\n",
       "        text-align: right;\n",
       "    }\n",
       "</style>\n",
       "<table border=\"1\" class=\"dataframe\">\n",
       "  <thead>\n",
       "    <tr style=\"text-align: right;\">\n",
       "      <th></th>\n",
       "      <th>Student</th>\n",
       "      <th>Math</th>\n",
       "      <th>Science</th>\n",
       "      <th>English</th>\n",
       "    </tr>\n",
       "  </thead>\n",
       "  <tbody>\n",
       "    <tr>\n",
       "      <th>0</th>\n",
       "      <td>Alice</td>\n",
       "      <td>85</td>\n",
       "      <td>90</td>\n",
       "      <td>92</td>\n",
       "    </tr>\n",
       "    <tr>\n",
       "      <th>1</th>\n",
       "      <td>Bob</td>\n",
       "      <td>92</td>\n",
       "      <td>88</td>\n",
       "      <td>81</td>\n",
       "    </tr>\n",
       "    <tr>\n",
       "      <th>2</th>\n",
       "      <td>Charlie</td>\n",
       "      <td>78</td>\n",
       "      <td>85</td>\n",
       "      <td>89</td>\n",
       "    </tr>\n",
       "  </tbody>\n",
       "</table>\n",
       "</div>"
      ],
      "text/plain": [
       "   Student  Math  Science  English\n",
       "0    Alice    85       90       92\n",
       "1      Bob    92       88       81\n",
       "2  Charlie    78       85       89"
      ]
     },
     "execution_count": 16,
     "metadata": {},
     "output_type": "execute_result"
    }
   ],
   "source": [
    "grades = {\n",
    "    'Student': ['Alice', 'Bob', 'Charlie'],\n",
    "    'Math': [85, 92, 78],\n",
    "    'Science': [90, 88, 85],\n",
    "    'English': [92, 81, 89]\n",
    "}\n",
    "df_grades = pd.DataFrame(grades)\n",
    "df_grades"
   ]
  },
  {
   "cell_type": "markdown",
   "id": "a41c9877",
   "metadata": {},
   "source": [
    "### Example 3: E-commerce Sales"
   ]
  },
  {
   "cell_type": "code",
   "execution_count": 18,
   "id": "0e357a4b",
   "metadata": {},
   "outputs": [
    {
     "data": {
      "text/html": [
       "<div>\n",
       "<style scoped>\n",
       "    .dataframe tbody tr th:only-of-type {\n",
       "        vertical-align: middle;\n",
       "    }\n",
       "\n",
       "    .dataframe tbody tr th {\n",
       "        vertical-align: top;\n",
       "    }\n",
       "\n",
       "    .dataframe thead th {\n",
       "        text-align: right;\n",
       "    }\n",
       "</style>\n",
       "<table border=\"1\" class=\"dataframe\">\n",
       "  <thead>\n",
       "    <tr style=\"text-align: right;\">\n",
       "      <th></th>\n",
       "      <th>OrderID</th>\n",
       "      <th>Product</th>\n",
       "      <th>Quantity</th>\n",
       "      <th>Price</th>\n",
       "    </tr>\n",
       "  </thead>\n",
       "  <tbody>\n",
       "    <tr>\n",
       "      <th>0</th>\n",
       "      <td>1001</td>\n",
       "      <td>Laptop</td>\n",
       "      <td>1</td>\n",
       "      <td>1200.0</td>\n",
       "    </tr>\n",
       "    <tr>\n",
       "      <th>1</th>\n",
       "      <td>1002</td>\n",
       "      <td>Smartphone</td>\n",
       "      <td>2</td>\n",
       "      <td>600.0</td>\n",
       "    </tr>\n",
       "    <tr>\n",
       "      <th>2</th>\n",
       "      <td>1003</td>\n",
       "      <td>Tablet</td>\n",
       "      <td>1</td>\n",
       "      <td>450.0</td>\n",
       "    </tr>\n",
       "  </tbody>\n",
       "</table>\n",
       "</div>"
      ],
      "text/plain": [
       "   OrderID     Product  Quantity   Price\n",
       "0     1001      Laptop         1  1200.0\n",
       "1     1002  Smartphone         2   600.0\n",
       "2     1003      Tablet         1   450.0"
      ]
     },
     "execution_count": 18,
     "metadata": {},
     "output_type": "execute_result"
    }
   ],
   "source": [
    "sales_data = {\n",
    "    'OrderID': [1001, 1002, 1003],\n",
    "    'Product': ['Laptop', 'Smartphone', 'Tablet'],\n",
    "    'Quantity': [1, 2, 1],\n",
    "    'Price': [1200.00, 600.00, 450.00]\n",
    "}\n",
    "df_sales = pd.DataFrame(sales_data)\n",
    "df_sales"
   ]
  },
  {
   "cell_type": "markdown",
   "id": "3dd1b265",
   "metadata": {},
   "source": [
    "### Example 4: Environmental Data"
   ]
  },
  {
   "cell_type": "code",
   "execution_count": 19,
   "id": "b10c25e7",
   "metadata": {},
   "outputs": [
    {
     "data": {
      "text/html": [
       "<div>\n",
       "<style scoped>\n",
       "    .dataframe tbody tr th:only-of-type {\n",
       "        vertical-align: middle;\n",
       "    }\n",
       "\n",
       "    .dataframe tbody tr th {\n",
       "        vertical-align: top;\n",
       "    }\n",
       "\n",
       "    .dataframe thead th {\n",
       "        text-align: right;\n",
       "    }\n",
       "</style>\n",
       "<table border=\"1\" class=\"dataframe\">\n",
       "  <thead>\n",
       "    <tr style=\"text-align: right;\">\n",
       "      <th></th>\n",
       "      <th>City</th>\n",
       "      <th>Temperature</th>\n",
       "      <th>Humidity</th>\n",
       "    </tr>\n",
       "  </thead>\n",
       "  <tbody>\n",
       "    <tr>\n",
       "      <th>0</th>\n",
       "      <td>New York</td>\n",
       "      <td>30</td>\n",
       "      <td>65</td>\n",
       "    </tr>\n",
       "    <tr>\n",
       "      <th>1</th>\n",
       "      <td>Los Angeles</td>\n",
       "      <td>75</td>\n",
       "      <td>50</td>\n",
       "    </tr>\n",
       "    <tr>\n",
       "      <th>2</th>\n",
       "      <td>Chicago</td>\n",
       "      <td>45</td>\n",
       "      <td>70</td>\n",
       "    </tr>\n",
       "  </tbody>\n",
       "</table>\n",
       "</div>"
      ],
      "text/plain": [
       "          City  Temperature  Humidity\n",
       "0     New York           30        65\n",
       "1  Los Angeles           75        50\n",
       "2      Chicago           45        70"
      ]
     },
     "execution_count": 19,
     "metadata": {},
     "output_type": "execute_result"
    }
   ],
   "source": [
    "temperature_data = {\n",
    "    'City': ['New York', 'Los Angeles', 'Chicago'],\n",
    "    'Temperature': [30, 75, 45],\n",
    "    'Humidity': [65, 50, 70]\n",
    "}\n",
    "df_temperature = pd.DataFrame(temperature_data)\n",
    "df_temperature"
   ]
  },
  {
   "cell_type": "markdown",
   "id": "fa60a850",
   "metadata": {},
   "source": [
    "### Example 5: Social Media Metrics"
   ]
  },
  {
   "cell_type": "code",
   "execution_count": 20,
   "id": "fc66723f",
   "metadata": {},
   "outputs": [
    {
     "data": {
      "text/html": [
       "<div>\n",
       "<style scoped>\n",
       "    .dataframe tbody tr th:only-of-type {\n",
       "        vertical-align: middle;\n",
       "    }\n",
       "\n",
       "    .dataframe tbody tr th {\n",
       "        vertical-align: top;\n",
       "    }\n",
       "\n",
       "    .dataframe thead th {\n",
       "        text-align: right;\n",
       "    }\n",
       "</style>\n",
       "<table border=\"1\" class=\"dataframe\">\n",
       "  <thead>\n",
       "    <tr style=\"text-align: right;\">\n",
       "      <th></th>\n",
       "      <th>Platform</th>\n",
       "      <th>Likes</th>\n",
       "      <th>Shares</th>\n",
       "      <th>Comments</th>\n",
       "    </tr>\n",
       "  </thead>\n",
       "  <tbody>\n",
       "    <tr>\n",
       "      <th>0</th>\n",
       "      <td>Twitter</td>\n",
       "      <td>120</td>\n",
       "      <td>15</td>\n",
       "      <td>23</td>\n",
       "    </tr>\n",
       "    <tr>\n",
       "      <th>1</th>\n",
       "      <td>Facebook</td>\n",
       "      <td>300</td>\n",
       "      <td>45</td>\n",
       "      <td>55</td>\n",
       "    </tr>\n",
       "    <tr>\n",
       "      <th>2</th>\n",
       "      <td>Instagram</td>\n",
       "      <td>450</td>\n",
       "      <td>67</td>\n",
       "      <td>78</td>\n",
       "    </tr>\n",
       "  </tbody>\n",
       "</table>\n",
       "</div>"
      ],
      "text/plain": [
       "    Platform  Likes  Shares  Comments\n",
       "0    Twitter    120      15        23\n",
       "1   Facebook    300      45        55\n",
       "2  Instagram    450      67        78"
      ]
     },
     "execution_count": 20,
     "metadata": {},
     "output_type": "execute_result"
    }
   ],
   "source": [
    "social_media_data = {\n",
    "    'Platform': ['Twitter', 'Facebook', 'Instagram'],\n",
    "    'Likes': [120, 300, 450],\n",
    "    'Shares': [15, 45, 67],\n",
    "    'Comments': [23, 55, 78]\n",
    "}\n",
    "df_social_media = pd.DataFrame(social_media_data)\n",
    "df_social_media"
   ]
  },
  {
   "cell_type": "markdown",
   "id": "f46d141d",
   "metadata": {},
   "source": [
    "### Example 6: Converting a dictionary to a DataFrame with different sets of columns\n",
    "The following example demonstrates how to explicitly name DataFrame columns during the Dictionary-to-DataFrame conversion process.  To achieve that, we pass an additional named parameter \"columns\" into the DataFrame() function/constructor."
   ]
  },
  {
   "cell_type": "code",
   "execution_count": 31,
   "id": "45b78fdf",
   "metadata": {},
   "outputs": [
    {
     "data": {
      "text/html": [
       "<div>\n",
       "<style scoped>\n",
       "    .dataframe tbody tr th:only-of-type {\n",
       "        vertical-align: middle;\n",
       "    }\n",
       "\n",
       "    .dataframe tbody tr th {\n",
       "        vertical-align: top;\n",
       "    }\n",
       "\n",
       "    .dataframe thead th {\n",
       "        text-align: right;\n",
       "    }\n",
       "</style>\n",
       "<table border=\"1\" class=\"dataframe\">\n",
       "  <thead>\n",
       "    <tr style=\"text-align: right;\">\n",
       "      <th></th>\n",
       "      <th>Student</th>\n",
       "      <th>Math</th>\n",
       "      <th>English</th>\n",
       "    </tr>\n",
       "  </thead>\n",
       "  <tbody>\n",
       "    <tr>\n",
       "      <th>0</th>\n",
       "      <td>Alice</td>\n",
       "      <td>85</td>\n",
       "      <td>92</td>\n",
       "    </tr>\n",
       "    <tr>\n",
       "      <th>1</th>\n",
       "      <td>Bob</td>\n",
       "      <td>92</td>\n",
       "      <td>81</td>\n",
       "    </tr>\n",
       "    <tr>\n",
       "      <th>2</th>\n",
       "      <td>Charlie</td>\n",
       "      <td>78</td>\n",
       "      <td>89</td>\n",
       "    </tr>\n",
       "  </tbody>\n",
       "</table>\n",
       "</div>"
      ],
      "text/plain": [
       "   Student  Math  English\n",
       "0    Alice    85       92\n",
       "1      Bob    92       81\n",
       "2  Charlie    78       89"
      ]
     },
     "execution_count": 31,
     "metadata": {},
     "output_type": "execute_result"
    }
   ],
   "source": [
    "grades_filtered = {\n",
    "    'Student': ['Alice', 'Bob', 'Charlie'],\n",
    "    'Math': [85, 92, 78],\n",
    "    'English': [92, 81, 89]\n",
    "}\n",
    "df_grades_filtered = pd.DataFrame(grades_filtered, columns=['Student', 'Math', 'English'])\n",
    "df_grades_filtered"
   ]
  },
  {
   "cell_type": "markdown",
   "id": "f3a168af",
   "metadata": {},
   "source": [
    "**Examples 7-9** illustrate the use of the **orient='index'** parameter. Note that in these examples the key/value pairs contains string keys and nested dictionary values.\n",
    "\n",
    "The **orient='index'** parameter in **pandas.DataFrame()** is used when creating a DataFrame from a dictionary. When **orient='index'** is specified, the dictionary keys are treated as the index (row labels) of the DataFrame, and the dictionary values are treated as rows. This orientation is useful for creating DataFrames where the data is naturally structured in a row-wise fashion, with each key corresponding to a different row."
   ]
  },
  {
   "cell_type": "markdown",
   "id": "d25a0a2c",
   "metadata": {},
   "source": [
    "### Example 7: Converting a dictionary to a DataFrame with a different axis"
   ]
  },
  {
   "cell_type": "code",
   "execution_count": 32,
   "id": "d0146332",
   "metadata": {},
   "outputs": [
    {
     "data": {
      "text/html": [
       "<div>\n",
       "<style scoped>\n",
       "    .dataframe tbody tr th:only-of-type {\n",
       "        vertical-align: middle;\n",
       "    }\n",
       "\n",
       "    .dataframe tbody tr th {\n",
       "        vertical-align: top;\n",
       "    }\n",
       "\n",
       "    .dataframe thead th {\n",
       "        text-align: right;\n",
       "    }\n",
       "</style>\n",
       "<table border=\"1\" class=\"dataframe\">\n",
       "  <thead>\n",
       "    <tr style=\"text-align: right;\">\n",
       "      <th></th>\n",
       "      <th>Math</th>\n",
       "      <th>Science</th>\n",
       "      <th>English</th>\n",
       "    </tr>\n",
       "  </thead>\n",
       "  <tbody>\n",
       "    <tr>\n",
       "      <th>Alice</th>\n",
       "      <td>85</td>\n",
       "      <td>90</td>\n",
       "      <td>92</td>\n",
       "    </tr>\n",
       "    <tr>\n",
       "      <th>Bob</th>\n",
       "      <td>92</td>\n",
       "      <td>88</td>\n",
       "      <td>81</td>\n",
       "    </tr>\n",
       "    <tr>\n",
       "      <th>Charlie</th>\n",
       "      <td>78</td>\n",
       "      <td>85</td>\n",
       "      <td>89</td>\n",
       "    </tr>\n",
       "  </tbody>\n",
       "</table>\n",
       "</div>"
      ],
      "text/plain": [
       "         Math  Science  English\n",
       "Alice      85       90       92\n",
       "Bob        92       88       81\n",
       "Charlie    78       85       89"
      ]
     },
     "execution_count": 32,
     "metadata": {},
     "output_type": "execute_result"
    }
   ],
   "source": [
    "grades_transposed = {\n",
    "    'Alice': {'Math': 85, 'Science': 90, 'English': 92},\n",
    "    'Bob': {'Math': 92, 'Science': 88, 'English': 81},\n",
    "    'Charlie': {'Math': 78, 'Science': 85, 'English': 89}\n",
    "}\n",
    "df_grades_transposed = pd.DataFrame.from_dict(grades_transposed, orient='index')\n",
    "df_grades_transposed"
   ]
  },
  {
   "cell_type": "markdown",
   "id": "0f6f5ee2",
   "metadata": {},
   "source": [
    "### Example 8: Dictionary of lists with 'index' orientation"
   ]
  },
  {
   "cell_type": "code",
   "execution_count": 33,
   "id": "ab12f16b",
   "metadata": {},
   "outputs": [
    {
     "data": {
      "text/html": [
       "<div>\n",
       "<style scoped>\n",
       "    .dataframe tbody tr th:only-of-type {\n",
       "        vertical-align: middle;\n",
       "    }\n",
       "\n",
       "    .dataframe tbody tr th {\n",
       "        vertical-align: top;\n",
       "    }\n",
       "\n",
       "    .dataframe thead th {\n",
       "        text-align: right;\n",
       "    }\n",
       "</style>\n",
       "<table border=\"1\" class=\"dataframe\">\n",
       "  <thead>\n",
       "    <tr style=\"text-align: right;\">\n",
       "      <th></th>\n",
       "      <th>0</th>\n",
       "      <th>1</th>\n",
       "      <th>2</th>\n",
       "    </tr>\n",
       "  </thead>\n",
       "  <tbody>\n",
       "    <tr>\n",
       "      <th>Date</th>\n",
       "      <td>2024-01-01</td>\n",
       "      <td>2024-01-02</td>\n",
       "      <td>2024-01-03</td>\n",
       "    </tr>\n",
       "    <tr>\n",
       "      <th>AAPL</th>\n",
       "      <td>150.75</td>\n",
       "      <td>153.31</td>\n",
       "      <td>155.89</td>\n",
       "    </tr>\n",
       "    <tr>\n",
       "      <th>GOOGL</th>\n",
       "      <td>2750.23</td>\n",
       "      <td>2773.12</td>\n",
       "      <td>2798.65</td>\n",
       "    </tr>\n",
       "  </tbody>\n",
       "</table>\n",
       "</div>"
      ],
      "text/plain": [
       "                0           1           2\n",
       "Date   2024-01-01  2024-01-02  2024-01-03\n",
       "AAPL       150.75      153.31      155.89\n",
       "GOOGL     2750.23     2773.12     2798.65"
      ]
     },
     "execution_count": 33,
     "metadata": {},
     "output_type": "execute_result"
    }
   ],
   "source": [
    "dict_index_orient = {\n",
    "    'Date': ['2024-01-01', '2024-01-02', '2024-01-03'],\n",
    "    'AAPL': [150.75, 153.31, 155.89],\n",
    "    'GOOGL': [2750.23, 2773.12, 2798.65]\n",
    "}\n",
    "df_index_orient = pd.DataFrame.from_dict(dict_index_orient, orient='index')\n",
    "df_index_orient"
   ]
  },
  {
   "cell_type": "markdown",
   "id": "8c33d7d3",
   "metadata": {},
   "source": [
    "### Example 9: Dictionary of dictionaries with 'index' orientation"
   ]
  },
  {
   "cell_type": "code",
   "execution_count": 34,
   "id": "7a02cf4a",
   "metadata": {},
   "outputs": [
    {
     "data": {
      "text/html": [
       "<div>\n",
       "<style scoped>\n",
       "    .dataframe tbody tr th:only-of-type {\n",
       "        vertical-align: middle;\n",
       "    }\n",
       "\n",
       "    .dataframe tbody tr th {\n",
       "        vertical-align: top;\n",
       "    }\n",
       "\n",
       "    .dataframe thead th {\n",
       "        text-align: right;\n",
       "    }\n",
       "</style>\n",
       "<table border=\"1\" class=\"dataframe\">\n",
       "  <thead>\n",
       "    <tr style=\"text-align: right;\">\n",
       "      <th></th>\n",
       "      <th>AAPL</th>\n",
       "      <th>GOOGL</th>\n",
       "    </tr>\n",
       "  </thead>\n",
       "  <tbody>\n",
       "    <tr>\n",
       "      <th>2024-01-01</th>\n",
       "      <td>150.75</td>\n",
       "      <td>2750.23</td>\n",
       "    </tr>\n",
       "    <tr>\n",
       "      <th>2024-01-02</th>\n",
       "      <td>153.31</td>\n",
       "      <td>2773.12</td>\n",
       "    </tr>\n",
       "    <tr>\n",
       "      <th>2024-01-03</th>\n",
       "      <td>155.89</td>\n",
       "      <td>2798.65</td>\n",
       "    </tr>\n",
       "  </tbody>\n",
       "</table>\n",
       "</div>"
      ],
      "text/plain": [
       "              AAPL    GOOGL\n",
       "2024-01-01  150.75  2750.23\n",
       "2024-01-02  153.31  2773.12\n",
       "2024-01-03  155.89  2798.65"
      ]
     },
     "execution_count": 34,
     "metadata": {},
     "output_type": "execute_result"
    }
   ],
   "source": [
    "dict_dict_index_orient = {\n",
    "    '2024-01-01': {'AAPL': 150.75, 'GOOGL': 2750.23},\n",
    "    '2024-01-02': {'AAPL': 153.31, 'GOOGL': 2773.12},\n",
    "    '2024-01-03': {'AAPL': 155.89, 'GOOGL': 2798.65}\n",
    "}\n",
    "df_dict_index_orient = pd.DataFrame.from_dict(dict_dict_index_orient, orient='index')\n",
    "df_dict_index_orient"
   ]
  },
  {
   "cell_type": "markdown",
   "id": "11a07502",
   "metadata": {},
   "source": [
    "### Example 10: Dictionary of Series with 'columns' orientation\n",
    "\n",
    "**The orient='columns'** parameter in **pandas.DataFrame()** is used when creating a DataFrame from a dictionary, and it is actually the default orientation. When orient='columns' is specified, the dictionary keys are treated as column labels of the DataFrame, and the dictionary values are treated as columns. This orientation is useful for creating DataFrames where the data is naturally structured in a column-wise fashion, with each key corresponding to a different column."
   ]
  },
  {
   "cell_type": "code",
   "execution_count": 26,
   "id": "6860f65a",
   "metadata": {},
   "outputs": [
    {
     "data": {
      "text/html": [
       "<div>\n",
       "<style scoped>\n",
       "    .dataframe tbody tr th:only-of-type {\n",
       "        vertical-align: middle;\n",
       "    }\n",
       "\n",
       "    .dataframe tbody tr th {\n",
       "        vertical-align: top;\n",
       "    }\n",
       "\n",
       "    .dataframe thead th {\n",
       "        text-align: right;\n",
       "    }\n",
       "</style>\n",
       "<table border=\"1\" class=\"dataframe\">\n",
       "  <thead>\n",
       "    <tr style=\"text-align: right;\">\n",
       "      <th></th>\n",
       "      <th>Math</th>\n",
       "      <th>Science</th>\n",
       "      <th>English</th>\n",
       "    </tr>\n",
       "  </thead>\n",
       "  <tbody>\n",
       "    <tr>\n",
       "      <th>Alice</th>\n",
       "      <td>85</td>\n",
       "      <td>90</td>\n",
       "      <td>92</td>\n",
       "    </tr>\n",
       "    <tr>\n",
       "      <th>Bob</th>\n",
       "      <td>92</td>\n",
       "      <td>88</td>\n",
       "      <td>81</td>\n",
       "    </tr>\n",
       "    <tr>\n",
       "      <th>Charlie</th>\n",
       "      <td>78</td>\n",
       "      <td>85</td>\n",
       "      <td>89</td>\n",
       "    </tr>\n",
       "  </tbody>\n",
       "</table>\n",
       "</div>"
      ],
      "text/plain": [
       "         Math  Science  English\n",
       "Alice      85       90       92\n",
       "Bob        92       88       81\n",
       "Charlie    78       85       89"
      ]
     },
     "execution_count": 26,
     "metadata": {},
     "output_type": "execute_result"
    }
   ],
   "source": [
    "dict_series_columns_orient = {\n",
    "    'Math': pd.Series([85, 92, 78], index=['Alice', 'Bob', 'Charlie']),\n",
    "    'Science': pd.Series([90, 88, 85], index=['Alice', 'Bob', 'Charlie']),\n",
    "    'English': pd.Series([92, 81, 89], index=['Alice', 'Bob', 'Charlie'])\n",
    "}\n",
    "df_series_columns_orient = pd.DataFrame.from_dict(dict_series_columns_orient, orient='columns')\n",
    "df_series_columns_orient"
   ]
  },
  {
   "cell_type": "code",
   "execution_count": null,
   "id": "54d9f3f2",
   "metadata": {},
   "outputs": [],
   "source": []
  }
 ],
 "metadata": {
  "kernelspec": {
   "display_name": "Python 3 (ipykernel)",
   "language": "python",
   "name": "python3"
  },
  "language_info": {
   "codemirror_mode": {
    "name": "ipython",
    "version": 3
   },
   "file_extension": ".py",
   "mimetype": "text/x-python",
   "name": "python",
   "nbconvert_exporter": "python",
   "pygments_lexer": "ipython3",
   "version": "3.9.13"
  }
 },
 "nbformat": 4,
 "nbformat_minor": 5
}
