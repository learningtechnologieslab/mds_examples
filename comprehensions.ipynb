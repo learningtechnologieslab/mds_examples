{
 "cells": [
  {
   "cell_type": "markdown",
   "id": "346fe97b",
   "metadata": {},
   "source": [
    "### Comprehensions in Python\n",
    "Partly based on the following tutorials:\n",
    "* https://www.geeksforgeeks.org/comprehensions-in-python/\n",
    "* https://www.w3schools.com/python/python_lists_comprehension.asp\n",
    "* https://realpython.com/list-comprehension-python/\n",
    "* https://www.programiz.com/python-programming/list-comprehension"
   ]
  },
  {
   "cell_type": "markdown",
   "id": "0ca7360e",
   "metadata": {},
   "source": [
    "Comprehensions in Python are a concise and readable way to create collections like lists, sets, or dictionaries. They are particularly useful for simplifying code and improving readability when dealing with iterations and transformations. \n",
    "\n",
    "Python supports the following 4 types of comprehensions:\n",
    "\n",
    "* List Comprehensions\n",
    "* Dictionary Comprehensions\n",
    "* Set Comprehensions\n",
    "* Generator Comprehensions"
   ]
  },
  {
   "cell_type": "markdown",
   "id": "c046efcb",
   "metadata": {},
   "source": [
    "### List Comprehensions\n",
    "\n",
    "* List Comprehensions provide a way to create new lists. \n",
    "* Usefulness:\n",
    "    * Conciseness: Allows you to create lists in a single line of code.\n",
    "    * Readability: Makes code more readable compared to using traditional loops.\n",
    "    * Performance: Often more efficient than using loops due to internal optimizations.\n",
    "* The following is the basic structure of a list comprehension:\n",
    "\n",
    "_output_list = [output_exp for var in input_list if (var satisfies this condition)]_\n",
    "\n",
    "* Note that list comprehension may or may not contain an if condition. \n",
    "* List comprehensions can contain multiple for (nested list comprehensions).\n",
    "\n"
   ]
  },
  {
   "cell_type": "markdown",
   "id": "755bf95b",
   "metadata": {},
   "source": [
    "**Example #1**: Suppose we want to create an output list which contains only the even numbers which are present in the input list. Let’s see how to do this using for loops and list comprehension and decide which method suits better."
   ]
  },
  {
   "cell_type": "code",
   "execution_count": 3,
   "id": "632946c5",
   "metadata": {},
   "outputs": [
    {
     "name": "stdout",
     "output_type": "stream",
     "text": [
      "Output List using for loop: [2, 4, 4, 6]\n"
     ]
    }
   ],
   "source": [
    "# Constructing output list WITHOUT\n",
    "# Using List comprehensions\n",
    "input_list = [1, 2, 3, 4, 4, 5, 6, 7, 7]\n",
    "  \n",
    "output_list = []\n",
    "  \n",
    "# Using loop for constructing output list\n",
    "for var in input_list:\n",
    "    if var % 2 == 0:\n",
    "        output_list.append(var)\n",
    "\n",
    "print(\"Output List using for loop:\", output_list)"
   ]
  },
  {
   "cell_type": "code",
   "execution_count": 4,
   "id": "1bf1b219",
   "metadata": {},
   "outputs": [
    {
     "name": "stdout",
     "output_type": "stream",
     "text": [
      "Output List using list comprehensions: [2, 4, 4, 6]\n"
     ]
    }
   ],
   "source": [
    "# Using List comprehensions\n",
    "# for constructing output list\n",
    "  \n",
    "input_list = [1, 2, 3, 4, 4, 5, 6, 7, 7]\n",
    "  \n",
    "\n",
    "list_using_comp = [var for var in input_list if var % 2 == 0]\n",
    "  \n",
    "print(\"Output List using list comprehensions:\", list_using_comp)"
   ]
  },
  {
   "cell_type": "markdown",
   "id": "b0f360f5",
   "metadata": {},
   "source": [
    "**Example #2**: Suppose we want to create an output list which contains squares of all the numbers from 1 to 9. "
   ]
  },
  {
   "cell_type": "code",
   "execution_count": 5,
   "id": "27603bbc",
   "metadata": {},
   "outputs": [
    {
     "name": "stdout",
     "output_type": "stream",
     "text": [
      "Output List using for loop: [1, 4, 9, 16, 25, 36, 49, 64, 81]\n"
     ]
    }
   ],
   "source": [
    "# Constructing output list using for loop\n",
    "output_list = []\n",
    "for var in range(1, 10):\n",
    "    output_list.append(var ** 2)\n",
    "      \n",
    "print(\"Output List using for loop:\", output_list)"
   ]
  },
  {
   "cell_type": "code",
   "execution_count": 7,
   "id": "61a1d8c7",
   "metadata": {},
   "outputs": [
    {
     "name": "stdout",
     "output_type": "stream",
     "text": [
      "Output List using list comprehension: [1, 4, 9, 16, 25, 36, 49, 64, 81]\n"
     ]
    }
   ],
   "source": [
    "# Constructing output list\n",
    "# using list comprehension\n",
    "list_using_comp = [var**2 for var in range(1, 10)]\n",
    "  \n",
    "print(\"Output List using list comprehension:\", list_using_comp)"
   ]
  },
  {
   "cell_type": "markdown",
   "id": "e6ca67b7",
   "metadata": {},
   "source": [
    "**Example 3**: Suppose we want to apply a function to every value in a list"
   ]
  },
  {
   "cell_type": "code",
   "execution_count": 1,
   "id": "e993b1e9",
   "metadata": {},
   "outputs": [],
   "source": [
    "def clean_string(list_item):\n",
    "    clean_list_item = \"\"\n",
    "    list_item = list_item.lower()\n",
    "    for char in list_item:\n",
    "        if(ord(char) >= 97 and ord(char) <= 122):\n",
    "            clean_list_item += char\n",
    "    return clean_list_item"
   ]
  },
  {
   "cell_type": "code",
   "execution_count": 12,
   "id": "35f336ad",
   "metadata": {},
   "outputs": [
    {
     "name": "stdout",
     "output_type": "stream",
     "text": [
      "['hello', 'bob', 'sometextwithpunctuationmarks', 'moretextwithspaces', 'racecar']\n"
     ]
    }
   ],
   "source": [
    "# Let's do this with a loop first\n",
    "input_list = [\"Hello\", \"Bob\", \n",
    "              \"Some text with ! punctuation , marks\", \n",
    "              \"more text With spaces\", \"race Car\"]\n",
    "output_list = []\n",
    "\n",
    "for item in input_list:\n",
    "    output_list.append(clean_string(item))\n",
    "    \n",
    "print(output_list)"
   ]
  },
  {
   "cell_type": "code",
   "execution_count": 13,
   "id": "d368f6c3",
   "metadata": {},
   "outputs": [
    {
     "name": "stdout",
     "output_type": "stream",
     "text": [
      "['hello', 'bob', 'sometextwithpunctuationmarks', 'moretextwithspaces', 'racecar']\n"
     ]
    }
   ],
   "source": [
    "# Let's do the same thing with a comprehension\n",
    "input_list = [\"Hello\", \"Bob\", \n",
    "              \"Some text with ! punctuation , marks\", \n",
    "              \"more text With spaces\", \"race Car\"]\n",
    "\n",
    "output_list = [clean_string(item) for item in input_list]\n",
    "print(output_list)"
   ]
  },
  {
   "cell_type": "code",
   "execution_count": 3,
   "id": "6dc14163",
   "metadata": {},
   "outputs": [],
   "source": [
    "# We can also rewrite our clean_string function using comprehensions\n",
    "def clean_string_comp(list_item):\n",
    "    clean_list_item = ''.join([char for char in list_item.lower() if ord(char) >= 97 and ord(char) <= 122])\n",
    "    return clean_list_item"
   ]
  },
  {
   "cell_type": "code",
   "execution_count": 25,
   "id": "103d4b2b",
   "metadata": {},
   "outputs": [
    {
     "name": "stdout",
     "output_type": "stream",
     "text": [
      "['hello', 'bob', 'sometextwithpunctuationmarks', 'moretextwithspaces', 'racecar']\n"
     ]
    }
   ],
   "source": [
    "# Let's test our modified function with a comprehension\n",
    "input_list = [\"Hello\", \"Bob\", \n",
    "              \"Some text with ! punctuation , marks\", \n",
    "              \"more text With spaces\", \"race Car\"]\n",
    "\n",
    "output_list = [clean_string_comp(item) for item in input_list]\n",
    "print(output_list)"
   ]
  },
  {
   "cell_type": "markdown",
   "id": "01781963",
   "metadata": {},
   "source": [
    "### Dictionary Comprehensions\n",
    "\n",
    "* Extending the idea of list comprehensions, we can also create a dictionary using dictionary comprehensions. \n",
    "* Usefulness:\n",
    "    * Compactness: Allows for the creation of dictionaries in a single, concise statement.\n",
    "    * Flexibility: Easily construct key-value pairs using expressions.\n",
    "* The basic structure of a dictionary comprehension looks like below:\n",
    "\n",
    "_output_dict = {key:value for (key, value) in iterable if (key, value satisfy this condition)}_"
   ]
  },
  {
   "cell_type": "markdown",
   "id": "acbe862b",
   "metadata": {},
   "source": [
    "**Example #1**: Suppose we want to create an output dictionary which contains only the odd numbers that are present in the input list as keys and their cubes as values."
   ]
  },
  {
   "cell_type": "code",
   "execution_count": 28,
   "id": "424b450f",
   "metadata": {},
   "outputs": [
    {
     "name": "stdout",
     "output_type": "stream",
     "text": [
      "Output Dictionary using for loop: {1: 1, 3: 27, 5: 125, 7: 343}\n"
     ]
    }
   ],
   "source": [
    "input_list = [1, 2, 3, 4, 5, 6, 7]\n",
    "  \n",
    "output_dict = {}\n",
    "  \n",
    "# Using loop for constructing output dictionary\n",
    "for var in input_list:\n",
    "    if var % 2 != 0:\n",
    "        output_dict[var] = var**3\n",
    "\n",
    "print(\"Output Dictionary using for loop:\",\n",
    "                             output_dict )"
   ]
  },
  {
   "cell_type": "code",
   "execution_count": 29,
   "id": "a6f48f72",
   "metadata": {},
   "outputs": [
    {
     "name": "stdout",
     "output_type": "stream",
     "text": [
      "Output Dictionary using dictionary comprehensions: {1: 1, 3: 27, 5: 125, 7: 343}\n"
     ]
    }
   ],
   "source": [
    "# Using Dictionary comprehensions\n",
    "# for constructing output dictionary\n",
    "  \n",
    "input_list = [1,2,3,4,5,6,7]\n",
    "  \n",
    "dict_using_comp = {var:var ** 3 for var in input_list if var % 2 != 0}\n",
    "  \n",
    "print(\"Output Dictionary using dictionary comprehensions:\",\n",
    "                                           dict_using_comp)"
   ]
  },
  {
   "cell_type": "markdown",
   "id": "bbd2b84e",
   "metadata": {},
   "source": [
    "**Example #2**: Given two lists containing the names of states and their corresponding capitals, construct a dictionary which maps the states with their respective capitals. \n"
   ]
  },
  {
   "cell_type": "code",
   "execution_count": 33,
   "id": "e0f831be",
   "metadata": {
    "scrolled": true
   },
   "outputs": [
    {
     "data": {
      "text/plain": [
       "<zip at 0x7f7db06ffe40>"
      ]
     },
     "execution_count": 33,
     "metadata": {},
     "output_type": "execute_result"
    }
   ],
   "source": [
    "state = ['Virginia', 'New York', 'Pennsylvania']\n",
    "capital = ['Richmond', 'Albany', 'Harrisburg']\n",
    "zip(state, capital)"
   ]
  },
  {
   "cell_type": "markdown",
   "id": "c0d438ad",
   "metadata": {},
   "source": [
    "* Python’s **zip()** function creates an iterator that will aggregate elements from two or more iterables. \n",
    "* You can use the resulting iterator to quickly and consistently solve common programming problems, like creating dictionaries. "
   ]
  },
  {
   "cell_type": "code",
   "execution_count": 35,
   "id": "89e67e60",
   "metadata": {},
   "outputs": [
    {
     "name": "stdout",
     "output_type": "stream",
     "text": [
      "Richmond, Virginia\n",
      "Albany, New York\n",
      "Harrisburg, Pennsylvania\n"
     ]
    }
   ],
   "source": [
    "for s, c in zip(state, capital):\n",
    "    print(c + \", \" + s)"
   ]
  },
  {
   "cell_type": "code",
   "execution_count": 36,
   "id": "dfa27e75",
   "metadata": {},
   "outputs": [
    {
     "name": "stdout",
     "output_type": "stream",
     "text": [
      "Output Dictionary using for loop: {'Virginia': 'Richmond', 'New York': 'Albany', 'Pennsylvania': 'Harrisburg'}\n"
     ]
    }
   ],
   "source": [
    "state = ['Virginia', 'New York', 'Pennsylvania']\n",
    "capital = ['Richmond', 'Albany', 'Harrisburg']\n",
    "  \n",
    "output_dict = {}\n",
    "  \n",
    "# Using loop for constructing output dictionary\n",
    "for (key, value) in zip(state, capital):\n",
    "    output_dict[key] = value\n",
    "\n",
    "print(\"Output Dictionary using for loop:\",\n",
    "                              output_dict)"
   ]
  },
  {
   "cell_type": "code",
   "execution_count": 37,
   "id": "9c602343",
   "metadata": {},
   "outputs": [
    {
     "name": "stdout",
     "output_type": "stream",
     "text": [
      "Output Dictionary using dictionary comprehensions: {'Virginia': 'Richmond', 'New York': 'Albany', 'Pennsylvania': 'Harrisburg'}\n"
     ]
    }
   ],
   "source": [
    "# Using Dictionary comprehensions\n",
    "# for constructing output dictionary\n",
    "  \n",
    "state = ['Virginia', 'New York', 'Pennsylvania']\n",
    "capital = ['Richmond', 'Albany', 'Harrisburg']\n",
    "  \n",
    "dict_using_comp = {key:value for (key, value) in zip(state, capital)}\n",
    "  \n",
    "print(\"Output Dictionary using dictionary comprehensions:\", \n",
    "                                           dict_using_comp)"
   ]
  },
  {
   "cell_type": "code",
   "execution_count": 7,
   "id": "8f6d9157",
   "metadata": {},
   "outputs": [
    {
     "name": "stdout",
     "output_type": "stream",
     "text": [
      "Output Dictionary using dictionary comprehensions: {'New York': 'Albany'}\n"
     ]
    }
   ],
   "source": [
    "# Using Dictionary comprehensions\n",
    "# for constructing output dictionary\n",
    "# with an if statement\n",
    "# Get only the states where capital starts with a letter A\n",
    "state = ['Virginia', 'New York', 'Pennsylvania']\n",
    "capital = ['Richmond', 'Albany', 'Harrisburg']\n",
    "  \n",
    "dict_using_comp = {key:value for (key, value) in zip(state, capital) if value[0].lower() == 'a'}\n",
    "  \n",
    "print(\"Output Dictionary using dictionary comprehensions:\", \n",
    "                                           dict_using_comp)"
   ]
  },
  {
   "cell_type": "markdown",
   "id": "0baa194a",
   "metadata": {},
   "source": [
    "### Set Comprehensions\n",
    "* Set comprehensions are similar to list comprehensions. \n",
    "* Usefulness:\n",
    "    * Efficiency: Efficiently create sets while eliminating duplicates.\n",
    "    * Readability: Cleaner than using loops and set constructor.\n",
    "* The only difference between them is that set comprehensions use curly brackets { }. "
   ]
  },
  {
   "cell_type": "markdown",
   "id": "86445af8",
   "metadata": {},
   "source": [
    "**Example #1**: Suppose we want to create an output set which contains only the even numbers that are present in the input list. Note that set will discard all the duplicate values. "
   ]
  },
  {
   "cell_type": "code",
   "execution_count": 38,
   "id": "af980d4a",
   "metadata": {},
   "outputs": [
    {
     "name": "stdout",
     "output_type": "stream",
     "text": [
      "Output Set using for loop: {2, 4, 6}\n"
     ]
    }
   ],
   "source": [
    "input_list = [1, 2, 3, 4, 4, 5, 6, 6, 6, 7, 7]\n",
    "  \n",
    "output_set = set()\n",
    "  \n",
    "# Using loop for constructing output set\n",
    "for var in input_list:\n",
    "    if var % 2 == 0:\n",
    "        output_set.add(var)\n",
    "\n",
    "print(\"Output Set using for loop:\", output_set)"
   ]
  },
  {
   "cell_type": "code",
   "execution_count": 39,
   "id": "30732e2a",
   "metadata": {},
   "outputs": [
    {
     "name": "stdout",
     "output_type": "stream",
     "text": [
      "Output Set using set comprehensions: {2, 4, 6}\n"
     ]
    }
   ],
   "source": [
    "# Using Set comprehensions \n",
    "# for constructing output set\n",
    "  \n",
    "input_list = [1, 2, 3, 4, 4, 5, 6, 6, 6, 7, 7]\n",
    "  \n",
    "set_using_comp = {var for var in input_list if var % 2 == 0}\n",
    "  \n",
    "print(\"Output Set using set comprehensions:\",\n",
    "                              set_using_comp)"
   ]
  },
  {
   "cell_type": "markdown",
   "id": "a0a83e0b",
   "metadata": {},
   "source": [
    "### Generator Comprehensions\n",
    "* Generator Comprehensions are very similar to list comprehensions. \n",
    "* One difference between them is that generator comprehensions use circular brackets whereas list comprehensions use square brackets. \n",
    "* The major difference between them is that generators don’t allocate memory for the whole list. \n",
    "    * Instead, they generate each value one by one which is why they are memory efficient. "
   ]
  },
  {
   "cell_type": "markdown",
   "id": "ca8052e5",
   "metadata": {},
   "source": [
    "### What are Generators in Python?\n",
    "\n",
    "* Before we talk about Generator functions, let's talk about **YIELD** vs. **RETURN**"
   ]
  },
  {
   "cell_type": "markdown",
   "id": "7a8b94e3",
   "metadata": {},
   "source": [
    "### RETURN \n",
    "* _return_ statement returns a value from a function \n",
    "* _return_ statement is the last line of a function and is executed after everything else in a function has completed running/executing/calculating"
   ]
  },
  {
   "cell_type": "code",
   "execution_count": 41,
   "id": "0a35545f",
   "metadata": {},
   "outputs": [
    {
     "name": "stdout",
     "output_type": "stream",
     "text": [
      "8575\n"
     ]
    }
   ],
   "source": [
    "def some_function_return(x, y):\n",
    "    x = x**2\n",
    "    y = y**3\n",
    "    return x * y\n",
    "\n",
    "print(some_function_return(5, 7))"
   ]
  },
  {
   "cell_type": "markdown",
   "id": "5a986f0e",
   "metadata": {},
   "source": [
    "### YIELD\n",
    "\n",
    "* The **yield** statement suspends a function’s execution and sends a value back to the caller, but retains enough state to enable the function to resume where it left off. \n",
    "* When the function resumes, it continues execution immediately after the last yield run. \n",
    "* This allows its code to produce a series of values over time, rather than computing them at once and sending them back like a list."
   ]
  },
  {
   "cell_type": "code",
   "execution_count": 44,
   "id": "64a7695f",
   "metadata": {},
   "outputs": [
    {
     "name": "stdout",
     "output_type": "stream",
     "text": [
      "4\n",
      "27\n",
      "256\n"
     ]
    }
   ],
   "source": [
    "def some_function_yield(x, y, z):\n",
    "    x = x**2\n",
    "    yield x\n",
    "\n",
    "    y = y**3\n",
    "    yield y\n",
    "    \n",
    "    z = z**4\n",
    "    yield z\n",
    " \n",
    " \n",
    "# Driver code to check above generator function\n",
    "for value in some_function_yield(2,3,4):\n",
    "    print(value)"
   ]
  },
  {
   "cell_type": "markdown",
   "id": "6c3f0ba6",
   "metadata": {},
   "source": [
    "### Generator functions\n",
    "* **Return** sends a specified value back to its caller \n",
    "* **Yield** can produce a sequence of values \n",
    "* We should use yield when we want to iterate over a sequence, but don’t want to store the entire sequence in memory. \n",
    "* Yield is used in Python **generators**. \n",
    "* A generator function is defined just like a normal function, but whenever it needs to generate a value, it does so with the _yield_ keyword rather than _return_. \n",
    "* If the body of a def contains yield, the function automatically becomes a generator function. "
   ]
  },
  {
   "cell_type": "code",
   "execution_count": 45,
   "id": "869d9323",
   "metadata": {},
   "outputs": [
    {
     "name": "stdout",
     "output_type": "stream",
     "text": [
      "1\n",
      "4\n",
      "9\n",
      "16\n",
      "25\n",
      "36\n",
      "49\n",
      "64\n",
      "81\n",
      "100\n"
     ]
    }
   ],
   "source": [
    "# A Python program to generate squares from 1\n",
    "# to 100 using yield and therefore generator\n",
    " \n",
    "# An infinite generator function that prints\n",
    "# next square number. It starts with 1\n",
    " \n",
    "def next_square():\n",
    "    i = 1\n",
    " \n",
    "    # An Infinite loop to generate squares\n",
    "    while True:\n",
    "        yield i*i\n",
    "        i += 1  # Next execution resumes\n",
    "        # from this point\n",
    " \n",
    " \n",
    "# Driver code to test above generator\n",
    "# function\n",
    "for num in next_square():\n",
    "    if num > 100:\n",
    "        break\n",
    "    print(num)"
   ]
  },
  {
   "cell_type": "markdown",
   "id": "9f0418af",
   "metadata": {},
   "source": [
    "### Back to comprehensions"
   ]
  },
  {
   "cell_type": "markdown",
   "id": "b96cb8b6",
   "metadata": {},
   "source": [
    "### Generator Comprehensions\n",
    "* Generator Comprehensions are very similar to list comprehensions. \n",
    "* One difference between them is that generator comprehensions use circular brackets whereas list comprehensions use square brackets. \n",
    "* The major difference between them is that generators don’t allocate memory for the whole list. \n",
    "    * Instead, they generate each value one by one which is why they are memory efficient. "
   ]
  },
  {
   "cell_type": "code",
   "execution_count": 48,
   "id": "ea43caea",
   "metadata": {},
   "outputs": [
    {
     "name": "stdout",
     "output_type": "stream",
     "text": [
      "Output values using generator comprehensions: 2 4 4 6 "
     ]
    }
   ],
   "source": [
    "input_list = [1, 2, 3, 4, 4, 5, 6, 7, 7]\n",
    "  \n",
    "output_gen = (var for var in input_list if var % 2 == 0)\n",
    "  \n",
    "print(\"Output values using generator comprehensions:\", end = ' ')\n",
    "  \n",
    "for var in output_gen:\n",
    "    print(var, end = ' ')"
   ]
  },
  {
   "cell_type": "code",
   "execution_count": 9,
   "id": "6a6689eb",
   "metadata": {},
   "outputs": [
    {
     "name": "stdout",
     "output_type": "stream",
     "text": [
      "Output values using generator comprehensions: 1 1 4 27 256 3125 46656 823543 16777216 387420489 "
     ]
    }
   ],
   "source": [
    "input_list = list(range(0, 10))\n",
    "  \n",
    "output_gen = (var**var for var in input_list)\n",
    "  \n",
    "print(\"Output values using generator comprehensions:\", end = ' ')\n",
    "  \n",
    "for var in output_gen:\n",
    "    print(var, end = ' ')"
   ]
  },
  {
   "cell_type": "code",
   "execution_count": null,
   "id": "2d05f705",
   "metadata": {},
   "outputs": [],
   "source": []
  }
 ],
 "metadata": {
  "kernelspec": {
   "display_name": "Python 3 (ipykernel)",
   "language": "python",
   "name": "python3"
  },
  "language_info": {
   "codemirror_mode": {
    "name": "ipython",
    "version": 3
   },
   "file_extension": ".py",
   "mimetype": "text/x-python",
   "name": "python",
   "nbconvert_exporter": "python",
   "pygments_lexer": "ipython3",
   "version": "3.9.13"
  }
 },
 "nbformat": 4,
 "nbformat_minor": 5
}
